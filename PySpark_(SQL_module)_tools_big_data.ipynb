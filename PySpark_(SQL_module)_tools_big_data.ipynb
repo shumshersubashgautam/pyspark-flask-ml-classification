{
  "nbformat": 4,
  "nbformat_minor": 0,
  "metadata": {
    "colab": {
      "provenance": [],
      "gpuType": "T4",
      "authorship_tag": "ABX9TyMnJsgWNMhzwGT9v8u0ZMjG"
    },
    "kernelspec": {
      "name": "python3",
      "display_name": "Python 3"
    },
    "language_info": {
      "name": "python"
    },
    "accelerator": "GPU",
    "gpuClass": "standard"
  },
  "cells": [
    {
      "cell_type": "code",
      "execution_count": 1,
      "metadata": {
        "id": "RS6iqqGSMuGk"
      },
      "outputs": [],
      "source": [
        "# Install Java 8\n",
        "!apt-get install openjdk-8-jdk-headless > /dev/null  \n",
        "# Download Spark 3.0.1\n",
        "!wget -q https://archive.apache.org/dist/spark/spark-3.0.1/spark-3.0.1-bin-hadoop2.7.tgz \n",
        "# Extract the Spark archive\n",
        "!tar xf spark-3.0.1-bin-hadoop2.7.tgz"
      ]
    },
    {
      "cell_type": "code",
      "source": [
        "# Set environment variables\n",
        "import os\n",
        "os.environ[\"JAVA_HOME\"] = '/usr/lib/jvm/java-8-openjdk-amd64'\n",
        "os.environ[\"SPARK_HOME\"] = '/content/spark-3.0.1-bin-hadoop2.7'"
      ],
      "metadata": {
        "id": "Xbxeg9lcM7_l"
      },
      "execution_count": 2,
      "outputs": []
    },
    {
      "cell_type": "code",
      "source": [
        "# Install findspark to use pyspark\n",
        "!pip install -q findspark "
      ],
      "metadata": {
        "id": "KVkPlJcLNDfU"
      },
      "execution_count": 3,
      "outputs": []
    },
    {
      "cell_type": "code",
      "source": [
        "\n",
        "# Mount Google Drive \n",
        "from google.colab import drive\n",
        "drive.mount('/content/drive')"
      ],
      "metadata": {
        "colab": {
          "base_uri": "https://localhost:8080/"
        },
        "id": "6IJBd_tfNWeU",
        "outputId": "61d254e0-ea23-4fb8-a0c5-a51a871bc7e4"
      },
      "execution_count": 8,
      "outputs": [
        {
          "output_type": "stream",
          "name": "stdout",
          "text": [
            "Mounted at /content/drive\n"
          ]
        }
      ]
    },
    {
      "cell_type": "code",
      "source": [
        "!cp /content/drive/MyDrive/WDIData.csv /content/"
      ],
      "metadata": {
        "id": "jpj3RgfCS4k-"
      },
      "execution_count": 9,
      "outputs": []
    },
    {
      "cell_type": "code",
      "source": [
        "# Make pyspark importable\n",
        "import findspark\n",
        "findspark.init()"
      ],
      "metadata": {
        "id": "unTqhU3YNyp8"
      },
      "execution_count": 10,
      "outputs": []
    },
    {
      "cell_type": "code",
      "source": [],
      "metadata": {
        "id": "QHJJE6JINzii"
      },
      "execution_count": 10,
      "outputs": []
    },
    {
      "cell_type": "code",
      "source": [
        "from pyspark.sql import SparkSession\n",
        "import pyspark.sql.functions as F\n",
        "from pyspark.sql import Window\n",
        "from pyspark.sql.types import DecimalType"
      ],
      "metadata": {
        "id": "Jx_GMSAVN7iK"
      },
      "execution_count": 11,
      "outputs": []
    },
    {
      "cell_type": "code",
      "source": [
        "# Create a SparkSession\n",
        "spark = (SparkSession.builder\n",
        "                     .master('local') \n",
        "                     .appName(\"WDI Analysis\") \n",
        "                     .getOrCreate())"
      ],
      "metadata": {
        "id": "fzZ064lnOJE9"
      },
      "execution_count": 12,
      "outputs": []
    },
    {
      "cell_type": "code",
      "source": [
        "def show_size_shema(df):\n",
        "    \"\"\"Show the size and schema of a DataFrame.\"\"\"\n",
        "    print(\"Rows: {0}, columns: {1}\".format(df.count(), len(df.columns)))\n",
        "    df.printSchema()"
      ],
      "metadata": {
        "id": "nWlJiYHDTBcp"
      },
      "execution_count": 13,
      "outputs": []
    },
    {
      "cell_type": "code",
      "source": [
        "# Create a WDI DataFrame\n",
        "wdi_path = '/content/WDIData.csv'\n",
        "df_wdi = spark.read.csv(wdi_path, inferSchema=True, header=True)"
      ],
      "metadata": {
        "id": "f1VFjBbmTGts"
      },
      "execution_count": 14,
      "outputs": []
    },
    {
      "cell_type": "code",
      "source": [
        "show_size_shema(df_wdi)"
      ],
      "metadata": {
        "colab": {
          "base_uri": "https://localhost:8080/"
        },
        "id": "P5Wjo1mpTL59",
        "outputId": "8e6ad7a1-f681-47ad-ee85-99f30d7aad00"
      },
      "execution_count": 15,
      "outputs": [
        {
          "output_type": "stream",
          "name": "stdout",
          "text": [
            "Rows: 383572, columns: 67\n",
            "root\n",
            " |-- Country Name: string (nullable = true)\n",
            " |-- Country Code: string (nullable = true)\n",
            " |-- Indicator Name: string (nullable = true)\n",
            " |-- Indicator Code: string (nullable = true)\n",
            " |-- 1960: double (nullable = true)\n",
            " |-- 1961: double (nullable = true)\n",
            " |-- 1962: double (nullable = true)\n",
            " |-- 1963: double (nullable = true)\n",
            " |-- 1964: double (nullable = true)\n",
            " |-- 1965: double (nullable = true)\n",
            " |-- 1966: double (nullable = true)\n",
            " |-- 1967: double (nullable = true)\n",
            " |-- 1968: double (nullable = true)\n",
            " |-- 1969: double (nullable = true)\n",
            " |-- 1970: double (nullable = true)\n",
            " |-- 1971: double (nullable = true)\n",
            " |-- 1972: double (nullable = true)\n",
            " |-- 1973: double (nullable = true)\n",
            " |-- 1974: double (nullable = true)\n",
            " |-- 1975: double (nullable = true)\n",
            " |-- 1976: double (nullable = true)\n",
            " |-- 1977: double (nullable = true)\n",
            " |-- 1978: double (nullable = true)\n",
            " |-- 1979: double (nullable = true)\n",
            " |-- 1980: double (nullable = true)\n",
            " |-- 1981: double (nullable = true)\n",
            " |-- 1982: double (nullable = true)\n",
            " |-- 1983: double (nullable = true)\n",
            " |-- 1984: double (nullable = true)\n",
            " |-- 1985: double (nullable = true)\n",
            " |-- 1986: double (nullable = true)\n",
            " |-- 1987: double (nullable = true)\n",
            " |-- 1988: double (nullable = true)\n",
            " |-- 1989: double (nullable = true)\n",
            " |-- 1990: double (nullable = true)\n",
            " |-- 1991: double (nullable = true)\n",
            " |-- 1992: double (nullable = true)\n",
            " |-- 1993: double (nullable = true)\n",
            " |-- 1994: double (nullable = true)\n",
            " |-- 1995: double (nullable = true)\n",
            " |-- 1996: double (nullable = true)\n",
            " |-- 1997: double (nullable = true)\n",
            " |-- 1998: double (nullable = true)\n",
            " |-- 1999: double (nullable = true)\n",
            " |-- 2000: double (nullable = true)\n",
            " |-- 2001: double (nullable = true)\n",
            " |-- 2002: double (nullable = true)\n",
            " |-- 2003: double (nullable = true)\n",
            " |-- 2004: double (nullable = true)\n",
            " |-- 2005: double (nullable = true)\n",
            " |-- 2006: double (nullable = true)\n",
            " |-- 2007: double (nullable = true)\n",
            " |-- 2008: double (nullable = true)\n",
            " |-- 2009: double (nullable = true)\n",
            " |-- 2010: double (nullable = true)\n",
            " |-- 2011: double (nullable = true)\n",
            " |-- 2012: double (nullable = true)\n",
            " |-- 2013: double (nullable = true)\n",
            " |-- 2014: double (nullable = true)\n",
            " |-- 2015: double (nullable = true)\n",
            " |-- 2016: double (nullable = true)\n",
            " |-- 2017: double (nullable = true)\n",
            " |-- 2018: double (nullable = true)\n",
            " |-- 2019: double (nullable = true)\n",
            " |-- 2020: double (nullable = true)\n",
            " |-- 2021: double (nullable = true)\n",
            " |-- _c66: string (nullable = true)\n",
            "\n"
          ]
        }
      ]
    },
    {
      "cell_type": "code",
      "source": [
        "# Show the first 5 rows of the DataFrame in tabular form\n",
        "df_wdi.select(df_wdi.columns[:7] + df_wdi.columns[-5:]).show(5)"
      ],
      "metadata": {
        "colab": {
          "base_uri": "https://localhost:8080/"
        },
        "id": "e_QMA5IdTPPP",
        "outputId": "d23b5168-842a-437e-8e6d-2134571cb895"
      },
      "execution_count": 16,
      "outputs": [
        {
          "output_type": "stream",
          "name": "stdout",
          "text": [
            "+--------------------+------------+--------------------+-----------------+----+----+----+----------------+----------------+----------------+----+----+\n",
            "|        Country Name|Country Code|      Indicator Name|   Indicator Code|1960|1961|1962|            2018|            2019|            2020|2021|_c66|\n",
            "+--------------------+------------+--------------------+-----------------+----+----+----+----------------+----------------+----------------+----+----+\n",
            "|Africa Eastern an...|         AFE|Access to clean f...|   EG.CFT.ACCS.ZS|null|null|null|18.6953056959887|19.1499422830713|19.5018373155115|null|null|\n",
            "|Africa Eastern an...|         AFE|Access to clean f...|EG.CFT.ACCS.RU.ZS|null|null|null|7.25482807057078|7.46078295393556|7.59928856389562|null|null|\n",
            "|Africa Eastern an...|         AFE|Access to clean f...|EG.CFT.ACCS.UR.ZS|null|null|null|38.4824089338151|38.6920529949576|38.7939833193673|null|null|\n",
            "|Africa Eastern an...|         AFE|Access to electri...|   EG.ELC.ACCS.ZS|null|null|null|42.8809766258104|44.0739121045303|45.6096042884373|null|null|\n",
            "|Africa Eastern an...|         AFE|Access to electri...|EG.ELC.ACCS.RU.ZS|null|null|null|27.2273913874217| 29.382999636116|30.1633636410037|null|null|\n",
            "+--------------------+------------+--------------------+-----------------+----+----+----+----------------+----------------+----------------+----+----+\n",
            "only showing top 5 rows\n",
            "\n"
          ]
        }
      ]
    },
    {
      "cell_type": "code",
      "source": [
        "df_wdi.select('Country Code').distinct().count()"
      ],
      "metadata": {
        "colab": {
          "base_uri": "https://localhost:8080/"
        },
        "id": "70e-DDc1TRxK",
        "outputId": "93433668-875b-4bc4-95fe-728ed95943ab"
      },
      "execution_count": 17,
      "outputs": [
        {
          "output_type": "execute_result",
          "data": {
            "text/plain": [
              "266"
            ]
          },
          "metadata": {},
          "execution_count": 17
        }
      ]
    },
    {
      "cell_type": "code",
      "source": [
        "df_wdi.select('Indicator Code').distinct().count()"
      ],
      "metadata": {
        "colab": {
          "base_uri": "https://localhost:8080/"
        },
        "id": "Tzjhm_rcTUAg",
        "outputId": "083f116d-4722-4633-d3b9-8b8334b80d5a"
      },
      "execution_count": 18,
      "outputs": [
        {
          "output_type": "execute_result",
          "data": {
            "text/plain": [
              "1442"
            ]
          },
          "metadata": {},
          "execution_count": 18
        }
      ]
    },
    {
      "cell_type": "code",
      "source": [
        "!cp -r /content/drive/MyDrive/WDI_CSV /content/"
      ],
      "metadata": {
        "id": "p_h2S4ZQTXCp"
      },
      "execution_count": 19,
      "outputs": []
    },
    {
      "cell_type": "code",
      "source": [
        "# Create a DataFrame of countries\n",
        "country_path = '/content/WDI_CSV/WDICountry.csv'\n",
        "df_country = spark.read.csv(\n",
        "    country_path, inferSchema=True, header=True, multiLine=True)\n",
        "     "
      ],
      "metadata": {
        "id": "IOpvUzFBT4gv"
      },
      "execution_count": 20,
      "outputs": []
    },
    {
      "cell_type": "code",
      "source": [
        "show_size_shema(df_country)"
      ],
      "metadata": {
        "colab": {
          "base_uri": "https://localhost:8080/"
        },
        "id": "kS-HNMYPUAhE",
        "outputId": "ada1d0df-3ba4-4aa5-d6c9-514202da418d"
      },
      "execution_count": 21,
      "outputs": [
        {
          "output_type": "stream",
          "name": "stdout",
          "text": [
            "Rows: 265, columns: 31\n",
            "root\n",
            " |-- Country Code: string (nullable = true)\n",
            " |-- Short Name: string (nullable = true)\n",
            " |-- Table Name: string (nullable = true)\n",
            " |-- Long Name: string (nullable = true)\n",
            " |-- 2-alpha code: string (nullable = true)\n",
            " |-- Currency Unit: string (nullable = true)\n",
            " |-- Special Notes: string (nullable = true)\n",
            " |-- Region: string (nullable = true)\n",
            " |-- Income Group: string (nullable = true)\n",
            " |-- WB-2 code: string (nullable = true)\n",
            " |-- National accounts base year: string (nullable = true)\n",
            " |-- National accounts reference year: integer (nullable = true)\n",
            " |-- SNA price valuation: string (nullable = true)\n",
            " |-- Lending category: string (nullable = true)\n",
            " |-- Other groups: string (nullable = true)\n",
            " |-- System of National Accounts: string (nullable = true)\n",
            " |-- Alternative conversion factor: string (nullable = true)\n",
            " |-- PPP survey year: string (nullable = true)\n",
            " |-- Balance of Payments Manual in use: string (nullable = true)\n",
            " |-- External debt Reporting status: string (nullable = true)\n",
            " |-- System of trade: string (nullable = true)\n",
            " |-- Government Accounting concept: string (nullable = true)\n",
            " |-- IMF data dissemination standard: string (nullable = true)\n",
            " |-- Latest population census: string (nullable = true)\n",
            " |-- Latest household survey: string (nullable = true)\n",
            " |-- Source of most recent Income and expenditure data: string (nullable = true)\n",
            " |-- Vital registration complete: string (nullable = true)\n",
            " |-- Latest agricultural census: string (nullable = true)\n",
            " |-- Latest industrial data: string (nullable = true)\n",
            " |-- Latest trade data: integer (nullable = true)\n",
            " |-- \r: string (nullable = true)\n",
            "\n"
          ]
        }
      ]
    },
    {
      "cell_type": "code",
      "source": [
        "df_country.select('Country Code').distinct().count()"
      ],
      "metadata": {
        "colab": {
          "base_uri": "https://localhost:8080/"
        },
        "id": "uCBKaEKQUDI9",
        "outputId": "d72e3316-23f2-4589-e835-6909ad85499d"
      },
      "execution_count": 22,
      "outputs": [
        {
          "output_type": "execute_result",
          "data": {
            "text/plain": [
              "265"
            ]
          },
          "metadata": {},
          "execution_count": 22
        }
      ]
    },
    {
      "cell_type": "code",
      "source": [
        "# Show the last 7 rows of the DataFrame as a list of Rows\n",
        "df_country.select('Country Code', 'Short Name').tail(7)"
      ],
      "metadata": {
        "colab": {
          "base_uri": "https://localhost:8080/"
        },
        "id": "viV5TSwaUFyj",
        "outputId": "87293500-f587-4cf9-ae68-6e04cd4654d3"
      },
      "execution_count": 23,
      "outputs": [
        {
          "output_type": "execute_result",
          "data": {
            "text/plain": [
              "[Row(Country Code='WLD', Short Name='World'),\n",
              " Row(Country Code='WSM', Short Name='Samoa'),\n",
              " Row(Country Code='XKX', Short Name='Kosovo'),\n",
              " Row(Country Code='YEM', Short Name='Yemen'),\n",
              " Row(Country Code='ZAF', Short Name='South Africa'),\n",
              " Row(Country Code='ZMB', Short Name='Zambia'),\n",
              " Row(Country Code='ZWE', Short Name='Zimbabwe')]"
            ]
          },
          "metadata": {},
          "execution_count": 23
        }
      ]
    },
    {
      "cell_type": "code",
      "source": [
        "# Create a DataFrame of indicators (series)\n",
        "series_path = '/content/WDI_CSV/WDISeries.csv'\n",
        "df_series = spark.read.csv(\n",
        "    series_path, inferSchema=True, header=True, multiLine=True, escape=\"\\\"\")"
      ],
      "metadata": {
        "id": "6dgEOvWWUIZF"
      },
      "execution_count": 24,
      "outputs": []
    },
    {
      "cell_type": "code",
      "source": [
        "show_size_shema(df_series)"
      ],
      "metadata": {
        "colab": {
          "base_uri": "https://localhost:8080/"
        },
        "id": "wuuRCmO_UMpo",
        "outputId": "7381679d-0aee-4b10-e318-6284f11297dc"
      },
      "execution_count": 25,
      "outputs": [
        {
          "output_type": "stream",
          "name": "stdout",
          "text": [
            "Rows: 1442, columns: 21\n",
            "root\n",
            " |-- Series Code: string (nullable = true)\n",
            " |-- Topic: string (nullable = true)\n",
            " |-- Indicator Name: string (nullable = true)\n",
            " |-- Short definition: string (nullable = true)\n",
            " |-- Long definition: string (nullable = true)\n",
            " |-- Unit of measure: string (nullable = true)\n",
            " |-- Periodicity: string (nullable = true)\n",
            " |-- Base Period: string (nullable = true)\n",
            " |-- Other notes: string (nullable = true)\n",
            " |-- Aggregation method: string (nullable = true)\n",
            " |-- Limitations and exceptions: string (nullable = true)\n",
            " |-- Notes from original source: string (nullable = true)\n",
            " |-- General comments: string (nullable = true)\n",
            " |-- Source: string (nullable = true)\n",
            " |-- Statistical concept and methodology: string (nullable = true)\n",
            " |-- Development relevance: string (nullable = true)\n",
            " |-- Related source links: string (nullable = true)\n",
            " |-- Other web links: string (nullable = true)\n",
            " |-- Related indicators: string (nullable = true)\n",
            " |-- License Type: string (nullable = true)\n",
            " |-- \r: string (nullable = true)\n",
            "\n"
          ]
        }
      ]
    },
    {
      "cell_type": "code",
      "source": [
        "df_series.select('Series Code').distinct().count()"
      ],
      "metadata": {
        "colab": {
          "base_uri": "https://localhost:8080/"
        },
        "id": "FhOiEGUlUO64",
        "outputId": "633fcfce-6e7a-47d2-c956-ebe8d90a55c2"
      },
      "execution_count": 26,
      "outputs": [
        {
          "output_type": "execute_result",
          "data": {
            "text/plain": [
              "1442"
            ]
          },
          "metadata": {},
          "execution_count": 26
        }
      ]
    },
    {
      "cell_type": "code",
      "source": [
        "# Show the first 5 rows of the DataFrame without truncation \n",
        "df_series.select('Indicator Name', 'Topic').show(5, False)"
      ],
      "metadata": {
        "colab": {
          "base_uri": "https://localhost:8080/"
        },
        "id": "Fidd9ldlURTi",
        "outputId": "36b32ccb-0c6a-4dcf-ec30-5b92f6330b2b"
      },
      "execution_count": 27,
      "outputs": [
        {
          "output_type": "stream",
          "name": "stdout",
          "text": [
            "+-------------------------------------------------------------+------------------------------------+\n",
            "|Indicator Name                                               |Topic                               |\n",
            "+-------------------------------------------------------------+------------------------------------+\n",
            "|Agricultural machinery, tractors                             |Environment: Agricultural production|\n",
            "|Fertilizer consumption (% of fertilizer production)          |Environment: Agricultural production|\n",
            "|Fertilizer consumption (kilograms per hectare of arable land)|Environment: Agricultural production|\n",
            "|Agricultural land (sq. km)                                   |Environment: Land use               |\n",
            "|Agricultural land (% of land area)                           |Environment: Land use               |\n",
            "+-------------------------------------------------------------+------------------------------------+\n",
            "only showing top 5 rows\n",
            "\n"
          ]
        }
      ]
    },
    {
      "cell_type": "code",
      "source": [
        "df_country.select('Region', 'Income Group').show(7, False)"
      ],
      "metadata": {
        "colab": {
          "base_uri": "https://localhost:8080/"
        },
        "id": "9QFdm2fkUTFL",
        "outputId": "b2344c3e-c281-4987-f140-afc9effaec52"
      },
      "execution_count": 28,
      "outputs": [
        {
          "output_type": "stream",
          "name": "stdout",
          "text": [
            "+-------------------------+-------------------+\n",
            "|Region                   |Income Group       |\n",
            "+-------------------------+-------------------+\n",
            "|Latin America & Caribbean|High income        |\n",
            "|null                     |null               |\n",
            "|South Asia               |Low income         |\n",
            "|null                     |null               |\n",
            "|Sub-Saharan Africa       |Lower middle income|\n",
            "|Europe & Central Asia    |Upper middle income|\n",
            "|Europe & Central Asia    |High income        |\n",
            "+-------------------------+-------------------+\n",
            "only showing top 7 rows\n",
            "\n"
          ]
        }
      ]
    },
    {
      "cell_type": "code",
      "source": [
        "df_series.select('Topic').limit(5).collect()"
      ],
      "metadata": {
        "colab": {
          "base_uri": "https://localhost:8080/"
        },
        "id": "o6hAdFyxUVLO",
        "outputId": "9fb75430-a151-4126-efe7-9fdca2d95d2c"
      },
      "execution_count": 29,
      "outputs": [
        {
          "output_type": "execute_result",
          "data": {
            "text/plain": [
              "[Row(Topic='Environment: Agricultural production'),\n",
              " Row(Topic='Environment: Agricultural production'),\n",
              " Row(Topic='Environment: Agricultural production'),\n",
              " Row(Topic='Environment: Land use'),\n",
              " Row(Topic='Environment: Land use')]"
            ]
          },
          "metadata": {},
          "execution_count": 29
        }
      ]
    },
    {
      "cell_type": "code",
      "source": [
        "# View the number of country names contained in both of these DataFrames \n",
        "# (with the removal of duplicates)\n",
        "df_wdi.select('Country Code').intersect(\n",
        "    df_country.select('Country Code')).count()"
      ],
      "metadata": {
        "colab": {
          "base_uri": "https://localhost:8080/"
        },
        "id": "a8GQeRP3UXAI",
        "outputId": "3f65b482-dbb9-4e0e-f593-d802adaf42f0"
      },
      "execution_count": 30,
      "outputs": [
        {
          "output_type": "execute_result",
          "data": {
            "text/plain": [
              "265"
            ]
          },
          "metadata": {},
          "execution_count": 30
        }
      ]
    },
    {
      "cell_type": "code",
      "source": [
        "# View a country code that is in the WDI DataFrame but is not in the Dataframe \n",
        "# of countries (without the removal of duplicates)\n",
        "(df_wdi.select('Country Code').distinct()\n",
        "    .exceptAll(df_country.select('Country Code')).show())"
      ],
      "metadata": {
        "colab": {
          "base_uri": "https://localhost:8080/"
        },
        "id": "Kyc2LxkTUZEa",
        "outputId": "33fad777-29fd-4922-f050-b749b75323e1"
      },
      "execution_count": 31,
      "outputs": [
        {
          "output_type": "stream",
          "name": "stdout",
          "text": [
            "+------------+\n",
            "|Country Code|\n",
            "+------------+\n",
            "|         INX|\n",
            "+------------+\n",
            "\n"
          ]
        }
      ]
    },
    {
      "cell_type": "code",
      "source": [
        "# View what values in other columns\n",
        "df_wdi.where(F.col('Country Code') == 'INX').select(df_wdi.columns[:7]).show(5)"
      ],
      "metadata": {
        "colab": {
          "base_uri": "https://localhost:8080/"
        },
        "id": "R-RQWdBVUbC5",
        "outputId": "cb2f57ec-cd8a-4fa2-b5b2-22d3a7ca1aee"
      },
      "execution_count": 32,
      "outputs": [
        {
          "output_type": "stream",
          "name": "stdout",
          "text": [
            "+--------------+------------+--------------------+-----------------+----+----+----+\n",
            "|  Country Name|Country Code|      Indicator Name|   Indicator Code|1960|1961|1962|\n",
            "+--------------+------------+--------------------+-----------------+----+----+----+\n",
            "|Not classified|         INX|Access to clean f...|   EG.CFT.ACCS.ZS|null|null|null|\n",
            "|Not classified|         INX|Access to clean f...|EG.CFT.ACCS.RU.ZS|null|null|null|\n",
            "|Not classified|         INX|Access to clean f...|EG.CFT.ACCS.UR.ZS|null|null|null|\n",
            "|Not classified|         INX|Access to electri...|   EG.ELC.ACCS.ZS|null|null|null|\n",
            "|Not classified|         INX|Access to electri...|EG.ELC.ACCS.RU.ZS|null|null|null|\n",
            "+--------------+------------+--------------------+-----------------+----+----+----+\n",
            "only showing top 5 rows\n",
            "\n"
          ]
        }
      ]
    },
    {
      "cell_type": "code",
      "source": [
        "# Count the number of rows with values in the annual columns \n",
        "# by deleting all empty rows in them\n",
        "(df_wdi.where(F.col('Country Code') == 'INX')\n",
        "       .dropna('all', subset=df_wdi.columns[4:])\n",
        "       .select('*').count())"
      ],
      "metadata": {
        "colab": {
          "base_uri": "https://localhost:8080/"
        },
        "id": "lP_Vd6x-Uc-0",
        "outputId": "b774a675-f1de-45bc-9261-4fc981ca219b"
      },
      "execution_count": 33,
      "outputs": [
        {
          "output_type": "execute_result",
          "data": {
            "text/plain": [
              "0"
            ]
          },
          "metadata": {},
          "execution_count": 33
        }
      ]
    },
    {
      "cell_type": "code",
      "source": [
        "# Count the number of missing values\n",
        "for ncols in ['Region', 'Income Group']:\n",
        "    print(f\"Missing values in '{ncols}': \", df_country.where(df_country[ncols].isNull()).count())\n",
        "print(\"Missing values in 'Topic': \", df_series.where(df_series['Topic'].isNull()).count())"
      ],
      "metadata": {
        "colab": {
          "base_uri": "https://localhost:8080/"
        },
        "id": "YrmcMSa_UfKa",
        "outputId": "dc6bf237-d164-4bee-a48c-0e2c21bd7770"
      },
      "execution_count": 34,
      "outputs": [
        {
          "output_type": "stream",
          "name": "stdout",
          "text": [
            "Missing values in 'Region':  48\n",
            "Missing values in 'Income Group':  49\n",
            "Missing values in 'Topic':  0\n"
          ]
        }
      ]
    },
    {
      "cell_type": "code",
      "source": [
        "# See how many countries do not have values in the \"Region\" \n",
        "# and \"Income Group\" columns\n",
        "(df_country\n",
        "    .filter(df_country['Income Group'].isNull() | df_country['Region'].isNull())\n",
        "    .select('Country Code')\n",
        "    .distinct()\n",
        "    .count())"
      ],
      "metadata": {
        "colab": {
          "base_uri": "https://localhost:8080/"
        },
        "id": "Hhy6Qnz5UhJu",
        "outputId": "a2ff55cf-6949-4cba-db0e-833d21de68c9"
      },
      "execution_count": 35,
      "outputs": [
        {
          "output_type": "execute_result",
          "data": {
            "text/plain": [
              "49"
            ]
          },
          "metadata": {},
          "execution_count": 35
        }
      ]
    },
    {
      "cell_type": "code",
      "source": [
        "# Show the names of these countries\n",
        "(df_country\n",
        "    .filter(df_country['Region'].isNull())\n",
        "    .select('Short Name', 'Country Code')\n",
        "    .distinct()\n",
        "    .collect())"
      ],
      "metadata": {
        "colab": {
          "base_uri": "https://localhost:8080/"
        },
        "id": "BgsRcvXFUi28",
        "outputId": "dc976605-4278-495e-d22c-d065d309389f"
      },
      "execution_count": 36,
      "outputs": [
        {
          "output_type": "execute_result",
          "data": {
            "text/plain": [
              "[Row(Short Name='Euro area', Country Code='EMU'),\n",
              " Row(Short Name='Low income', Country Code='LIC'),\n",
              " Row(Short Name='Middle East & North Africa', Country Code='MEA'),\n",
              " Row(Short Name='Least developed countries: UN classification', Country Code='LDC'),\n",
              " Row(Short Name='Middle East & North Africa (excluding high income)', Country Code='MNA'),\n",
              " Row(Short Name='Middle East & North Africa (IDA & IBRD)', Country Code='TMN'),\n",
              " Row(Short Name='Europe & Central Asia (excluding high income)', Country Code='ECA'),\n",
              " Row(Short Name='East Asia & Pacific (IDA & IBRD)', Country Code='TEA'),\n",
              " Row(Short Name='IDA total', Country Code='IDA'),\n",
              " Row(Short Name='Middle income', Country Code='MIC'),\n",
              " Row(Short Name='Arab World', Country Code='ARB'),\n",
              " Row(Short Name='Latin America & Caribbean (excluding high income)', Country Code='LAC'),\n",
              " Row(Short Name='Sub-Saharan Africa (excluding high income)', Country Code='SSA'),\n",
              " Row(Short Name='Pacific island small states', Country Code='PSS'),\n",
              " Row(Short Name='IBRD only', Country Code='IBD'),\n",
              " Row(Short Name='Sub-Saharan Africa', Country Code='SSF'),\n",
              " Row(Short Name='High income', Country Code='HIC'),\n",
              " Row(Short Name='Late-demographic dividend', Country Code='LTE'),\n",
              " Row(Short Name='Other small states', Country Code='OSS'),\n",
              " Row(Short Name='Latin America & Caribbean', Country Code='LCN'),\n",
              " Row(Short Name='Africa Western and Central', Country Code='AFW'),\n",
              " Row(Short Name='East Asia & Pacific (excluding high income)', Country Code='EAP'),\n",
              " Row(Short Name='North America', Country Code='NAC'),\n",
              " Row(Short Name='IDA blend', Country Code='IDB'),\n",
              " Row(Short Name='South Asia', Country Code='SAS'),\n",
              " Row(Short Name='European Union', Country Code='EUU'),\n",
              " Row(Short Name='Africa Eastern and Southern', Country Code='AFE'),\n",
              " Row(Short Name='Fragile and conflict affected situations', Country Code='FCS'),\n",
              " Row(Short Name='Latin America & Caribbean (IDA & IBRD)', Country Code='TLA'),\n",
              " Row(Short Name='Caribbean small states', Country Code='CSS'),\n",
              " Row(Short Name='South Asia (IDA & IBRD)', Country Code='TSA'),\n",
              " Row(Short Name='Sub-Saharan Africa (IDA & IBRD)', Country Code='TSS'),\n",
              " Row(Short Name='Lower middle income', Country Code='LMC'),\n",
              " Row(Short Name='Upper middle income', Country Code='UMC'),\n",
              " Row(Short Name='IDA only', Country Code='IDX'),\n",
              " Row(Short Name='Small states', Country Code='SST'),\n",
              " Row(Short Name='Pre-demographic dividend', Country Code='PRE'),\n",
              " Row(Short Name='Heavily indebted poor countries (HIPC)', Country Code='HPC'),\n",
              " Row(Short Name='Central Europe and the Baltics', Country Code='CEB'),\n",
              " Row(Short Name='Europe & Central Asia (IDA & IBRD)', Country Code='TEC'),\n",
              " Row(Short Name='Post-demographic dividend', Country Code='PST'),\n",
              " Row(Short Name='OECD members', Country Code='OED'),\n",
              " Row(Short Name='World', Country Code='WLD'),\n",
              " Row(Short Name='East Asia & Pacific', Country Code='EAS'),\n",
              " Row(Short Name='Europe & Central Asia', Country Code='ECS'),\n",
              " Row(Short Name='IDA & IBRD total', Country Code='IBT'),\n",
              " Row(Short Name='Early-demographic dividend', Country Code='EAR'),\n",
              " Row(Short Name='Low & middle income', Country Code='LMY')]"
            ]
          },
          "metadata": {},
          "execution_count": 36
        }
      ]
    },
    {
      "cell_type": "code",
      "source": [
        "# Add rows with filled in missing values for the \"World\"\n",
        "df_country_w = (df_country\n",
        "                .unionByName(df_country\n",
        "                                .filter(df_country['Country Code'] == 'WLD')\n",
        "                                .fillna({'Region': 'World', \n",
        "                                         'Income group': 'World'})))"
      ],
      "metadata": {
        "id": "zOTX4T6hUksA"
      },
      "execution_count": 37,
      "outputs": []
    },
    {
      "cell_type": "code",
      "source": [
        "(df_country_w\n",
        "    .filter(df_country_w['Country Code'] == 'WLD')\n",
        "    .select('Country Code', 'Region')\n",
        "    .show())"
      ],
      "metadata": {
        "colab": {
          "base_uri": "https://localhost:8080/"
        },
        "id": "oARvoqrLUnJF",
        "outputId": "476c0296-b1ae-4e06-ed41-0ebdcad2a13c"
      },
      "execution_count": 38,
      "outputs": [
        {
          "output_type": "stream",
          "name": "stdout",
          "text": [
            "+------------+------+\n",
            "|Country Code|Region|\n",
            "+------------+------+\n",
            "|         WLD|  null|\n",
            "|         WLD| World|\n",
            "+------------+------+\n",
            "\n"
          ]
        }
      ]
    },
    {
      "cell_type": "code",
      "source": [
        "(df_wdi.select('Indicator Code')\n",
        "    .distinct()\n",
        "    .intersect(df_series.select('Series Code'))\n",
        "    .count())"
      ],
      "metadata": {
        "colab": {
          "base_uri": "https://localhost:8080/"
        },
        "id": "APqzJkzbUn4e",
        "outputId": "b3d88f7b-9aac-41c1-cf94-579612fc8a6c"
      },
      "execution_count": 39,
      "outputs": [
        {
          "output_type": "execute_result",
          "data": {
            "text/plain": [
              "1442"
            ]
          },
          "metadata": {},
          "execution_count": 39
        }
      ]
    },
    {
      "cell_type": "code",
      "source": [
        "df_wdi.filter(df_wdi['_c65'].isNotNull()).count()"
      ],
      "metadata": {
        "colab": {
          "base_uri": "https://localhost:8080/",
          "height": 260
        },
        "id": "7JmF92OCUrqV",
        "outputId": "e32bf4b3-6313-4e78-92a1-4ea77937287f"
      },
      "execution_count": 40,
      "outputs": [
        {
          "output_type": "error",
          "ename": "AnalysisException",
          "evalue": "ignored",
          "traceback": [
            "\u001b[0;31m---------------------------------------------------------------------------\u001b[0m",
            "\u001b[0;31mAnalysisException\u001b[0m                         Traceback (most recent call last)",
            "\u001b[0;32m<ipython-input-40-6cb927336477>\u001b[0m in \u001b[0;36m<cell line: 1>\u001b[0;34m()\u001b[0m\n\u001b[0;32m----> 1\u001b[0;31m \u001b[0mdf_wdi\u001b[0m\u001b[0;34m.\u001b[0m\u001b[0mfilter\u001b[0m\u001b[0;34m(\u001b[0m\u001b[0mdf_wdi\u001b[0m\u001b[0;34m[\u001b[0m\u001b[0;34m'_c65'\u001b[0m\u001b[0;34m]\u001b[0m\u001b[0;34m.\u001b[0m\u001b[0misNotNull\u001b[0m\u001b[0;34m(\u001b[0m\u001b[0;34m)\u001b[0m\u001b[0;34m)\u001b[0m\u001b[0;34m.\u001b[0m\u001b[0mcount\u001b[0m\u001b[0;34m(\u001b[0m\u001b[0;34m)\u001b[0m\u001b[0;34m\u001b[0m\u001b[0;34m\u001b[0m\u001b[0m\n\u001b[0m",
            "\u001b[0;32m/content/spark-3.0.1-bin-hadoop2.7/python/pyspark/sql/dataframe.py\u001b[0m in \u001b[0;36m__getitem__\u001b[0;34m(self, item)\u001b[0m\n\u001b[1;32m   1378\u001b[0m         \"\"\"\n\u001b[1;32m   1379\u001b[0m         \u001b[0;32mif\u001b[0m \u001b[0misinstance\u001b[0m\u001b[0;34m(\u001b[0m\u001b[0mitem\u001b[0m\u001b[0;34m,\u001b[0m \u001b[0mbasestring\u001b[0m\u001b[0;34m)\u001b[0m\u001b[0;34m:\u001b[0m\u001b[0;34m\u001b[0m\u001b[0;34m\u001b[0m\u001b[0m\n\u001b[0;32m-> 1380\u001b[0;31m             \u001b[0mjc\u001b[0m \u001b[0;34m=\u001b[0m \u001b[0mself\u001b[0m\u001b[0;34m.\u001b[0m\u001b[0m_jdf\u001b[0m\u001b[0;34m.\u001b[0m\u001b[0mapply\u001b[0m\u001b[0;34m(\u001b[0m\u001b[0mitem\u001b[0m\u001b[0;34m)\u001b[0m\u001b[0;34m\u001b[0m\u001b[0;34m\u001b[0m\u001b[0m\n\u001b[0m\u001b[1;32m   1381\u001b[0m             \u001b[0;32mreturn\u001b[0m \u001b[0mColumn\u001b[0m\u001b[0;34m(\u001b[0m\u001b[0mjc\u001b[0m\u001b[0;34m)\u001b[0m\u001b[0;34m\u001b[0m\u001b[0;34m\u001b[0m\u001b[0m\n\u001b[1;32m   1382\u001b[0m         \u001b[0;32melif\u001b[0m \u001b[0misinstance\u001b[0m\u001b[0;34m(\u001b[0m\u001b[0mitem\u001b[0m\u001b[0;34m,\u001b[0m \u001b[0mColumn\u001b[0m\u001b[0;34m)\u001b[0m\u001b[0;34m:\u001b[0m\u001b[0;34m\u001b[0m\u001b[0;34m\u001b[0m\u001b[0m\n",
            "\u001b[0;32m/content/spark-3.0.1-bin-hadoop2.7/python/lib/py4j-0.10.9-src.zip/py4j/java_gateway.py\u001b[0m in \u001b[0;36m__call__\u001b[0;34m(self, *args)\u001b[0m\n\u001b[1;32m   1302\u001b[0m \u001b[0;34m\u001b[0m\u001b[0m\n\u001b[1;32m   1303\u001b[0m         \u001b[0manswer\u001b[0m \u001b[0;34m=\u001b[0m \u001b[0mself\u001b[0m\u001b[0;34m.\u001b[0m\u001b[0mgateway_client\u001b[0m\u001b[0;34m.\u001b[0m\u001b[0msend_command\u001b[0m\u001b[0;34m(\u001b[0m\u001b[0mcommand\u001b[0m\u001b[0;34m)\u001b[0m\u001b[0;34m\u001b[0m\u001b[0;34m\u001b[0m\u001b[0m\n\u001b[0;32m-> 1304\u001b[0;31m         return_value = get_return_value(\n\u001b[0m\u001b[1;32m   1305\u001b[0m             answer, self.gateway_client, self.target_id, self.name)\n\u001b[1;32m   1306\u001b[0m \u001b[0;34m\u001b[0m\u001b[0m\n",
            "\u001b[0;32m/content/spark-3.0.1-bin-hadoop2.7/python/pyspark/sql/utils.py\u001b[0m in \u001b[0;36mdeco\u001b[0;34m(*a, **kw)\u001b[0m\n\u001b[1;32m    132\u001b[0m                 \u001b[0;31m# Hide where the exception came from that shows a non-Pythonic\u001b[0m\u001b[0;34m\u001b[0m\u001b[0;34m\u001b[0m\u001b[0m\n\u001b[1;32m    133\u001b[0m                 \u001b[0;31m# JVM exception message.\u001b[0m\u001b[0;34m\u001b[0m\u001b[0;34m\u001b[0m\u001b[0m\n\u001b[0;32m--> 134\u001b[0;31m                 \u001b[0mraise_from\u001b[0m\u001b[0;34m(\u001b[0m\u001b[0mconverted\u001b[0m\u001b[0;34m)\u001b[0m\u001b[0;34m\u001b[0m\u001b[0;34m\u001b[0m\u001b[0m\n\u001b[0m\u001b[1;32m    135\u001b[0m             \u001b[0;32melse\u001b[0m\u001b[0;34m:\u001b[0m\u001b[0;34m\u001b[0m\u001b[0;34m\u001b[0m\u001b[0m\n\u001b[1;32m    136\u001b[0m                 \u001b[0;32mraise\u001b[0m\u001b[0;34m\u001b[0m\u001b[0;34m\u001b[0m\u001b[0m\n",
            "\u001b[0;32m/content/spark-3.0.1-bin-hadoop2.7/python/pyspark/sql/utils.py\u001b[0m in \u001b[0;36mraise_from\u001b[0;34m(e)\u001b[0m\n",
            "\u001b[0;31mAnalysisException\u001b[0m: Cannot resolve column name \"_c65\" among (Country Name, Country Code, Indicator Name, Indicator Code, 1960, 1961, 1962, 1963, 1964, 1965, 1966, 1967, 1968, 1969, 1970, 1971, 1972, 1973, 1974, 1975, 1976, 1977, 1978, 1979, 1980, 1981, 1982, 1983, 1984, 1985, 1986, 1987, 1988, 1989, 1990, 1991, 1992, 1993, 1994, 1995, 1996, 1997, 1998, 1999, 2000, 2001, 2002, 2003, 2004, 2005, 2006, 2007, 2008, 2009, 2010, 2011, 2012, 2013, 2014, 2015, 2016, 2017, 2018, 2019, 2020, 2021, _c66);"
          ]
        }
      ]
    },
    {
      "cell_type": "code",
      "source": [
        "# Select columns in a specific order\n",
        "cols_ord = (['Country Code', 'Country Name', 'Region', 'Income Group', 'Topic'] \n",
        "            + df_wdi.columns[2:len(df_wdi.columns)-1])\n",
        "\n",
        "# Join all the selected DataFrames together\n",
        "wdi_csdf = (df_wdi\n",
        "            .join(df_country_w\n",
        "                  .dropna(subset=['Region', 'Income Group'])\n",
        "                  .select('Country Code', 'Region', 'Income group'), \n",
        "                  'Country Code')\n",
        "            .join(df_series.select('Series Code', 'Topic'),  \n",
        "                  df_wdi['Indicator Code'] == df_series['Series Code'], \n",
        "                  'left')\n",
        "            .fillna({'Topic': 'Unknown'})\n",
        "            .select(cols_ord))"
      ],
      "metadata": {
        "id": "VK7r7j3oUtzK"
      },
      "execution_count": 41,
      "outputs": []
    },
    {
      "cell_type": "code",
      "source": [
        "# Calculate the final number of rows\n",
        "rows_df = (df_wdi.where(df_wdi['Country Code'] != 'INX').count() \n",
        "           - (df_country.where(df_country['Region'].isNull()).count() - 1)\n",
        "           * df_series.select('Series Code').count())\n",
        "\n",
        "print(\"The correct number of rows: {0}, columns: {1}\".format(\n",
        "    rows_df, len(df_wdi.columns) + 2))\n",
        "print(\"The resulting number of rows: {0}, columns: {1}\".format(\n",
        "    wdi_csdf.count(), len(wdi_csdf.columns)))"
      ],
      "metadata": {
        "colab": {
          "base_uri": "https://localhost:8080/"
        },
        "id": "Rn7PMVF9Uv5F",
        "outputId": "cef85043-dc37-4a82-d27a-a9b1c6806e18"
      },
      "execution_count": 42,
      "outputs": [
        {
          "output_type": "stream",
          "name": "stdout",
          "text": [
            "The correct number of rows: 314356, columns: 69\n",
            "The resulting number of rows: 312914, columns: 69\n"
          ]
        }
      ]
    },
    {
      "cell_type": "code",
      "source": [
        "# Display a sampled subset\n",
        "wdi_csdf.sample(0.2).show(10)"
      ],
      "metadata": {
        "colab": {
          "base_uri": "https://localhost:8080/"
        },
        "id": "6cz_mXE0UyyB",
        "outputId": "fd08a19a-60ef-4eaf-eb69-0e592bba1507"
      },
      "execution_count": 43,
      "outputs": [
        {
          "output_type": "stream",
          "name": "stdout",
          "text": [
            "+------------+------------+------+------------+--------------------+--------------------+--------------------+----+----+----+----+----+----+----+----+----+----+-------------------+-------------------+-------------------+-------------------+-------------------+-------------------+-------------------+-------------------+-------------------+-------------------+-------------------+-------------------+-------------------+-------------------+-------------------+-------------------+-------------------+-------------------+-------------------+-------------------+-------------------+-------------------+-------------------+-------------------+-------------------+-------------------+-------------------+-------------------+-------------------+-------------------+-------------------+-------------------+-------------------+-------------------+-------------------+-------------------+-------------------+-------------------+-------------------+-------------------+-------------------+-------------------+-------------------+-------------------+-------------------+-----------------+-------------------+-------------------+-------------------+-------------------+-------------------+-----+\n",
            "|Country Code|Country Name|Region|Income Group|               Topic|      Indicator Name|      Indicator Code|1960|1961|1962|1963|1964|1965|1966|1967|1968|1969|               1970|               1971|               1972|               1973|               1974|               1975|               1976|               1977|               1978|               1979|               1980|               1981|               1982|               1983|               1984|               1985|               1986|               1987|               1988|               1989|               1990|               1991|               1992|               1993|               1994|               1995|               1996|               1997|               1998|               1999|               2000|               2001|               2002|               2003|               2004|               2005|               2006|               2007|               2008|               2009|               2010|               2011|               2012|               2013|               2014|             2015|               2016|               2017|               2018|               2019|               2020| 2021|\n",
            "+------------+------------+------+------------+--------------------+--------------------+--------------------+----+----+----+----+----+----+----+----+----+----+-------------------+-------------------+-------------------+-------------------+-------------------+-------------------+-------------------+-------------------+-------------------+-------------------+-------------------+-------------------+-------------------+-------------------+-------------------+-------------------+-------------------+-------------------+-------------------+-------------------+-------------------+-------------------+-------------------+-------------------+-------------------+-------------------+-------------------+-------------------+-------------------+-------------------+-------------------+-------------------+-------------------+-------------------+-------------------+-------------------+-------------------+-------------------+-------------------+-------------------+-------------------+-------------------+-------------------+-------------------+-------------------+-----------------+-------------------+-------------------+-------------------+-------------------+-------------------+-----+\n",
            "|         WLD|       World| World|       World|Environment: Ener...|Access to electri...|   EG.ELC.ACCS.UR.ZS|null|null|null|null|null|null|null|null|null|null|               null|               null|               null|               null|               null|               null|               null|               null|               null|               null|               null|               null|               null|               null|               null|               null|               null|               null|               null|               null|               null|               null|               null|       94.328260603|   94.7987436423551|   94.7690832758203|   94.5984980705124|   94.6737514625963|   94.5081023286429|   94.9787316632738|   94.9383197309416|   94.6499190070599|    94.969002885813|   95.1350540490652|   95.1076128088269|   95.2716956655281|   95.5016117125075|   95.6573084418106|   95.6896679104366|   95.8106380482959|   95.7096783132713|   95.9379677367568|   96.2868381595414|   96.2909879862076|   96.3447485645493| 96.2524228904449|   96.7442933659494|   97.2629707759984|   97.3941115101058|   97.6176052335493|   97.2352398533877| null|\n",
            "|         WLD|       World| World|       World|Financial Sector:...|Account ownership...|      FX.OWN.TOTL.ZS|null|null|null|null|null|null|null|null|null|null|               null|               null|               null|               null|               null|               null|               null|               null|               null|               null|               null|               null|               null|               null|               null|               null|               null|               null|               null|               null|               null|               null|               null|               null|               null|               null|               null|               null|               null|               null|               null|               null|               null|               null|               null|               null|               null|               null|               null|               null|               null|              50.63|               null|               null|              61.92|             null|               null|               68.5|               null|               null|               null| 76.2|\n",
            "|         WLD|       World| World|       World|Financial Sector:...|Account ownership...|   FX.OWN.TOTL.60.ZS|null|null|null|null|null|null|null|null|null|null|               null|               null|               null|               null|               null|               null|               null|               null|               null|               null|               null|               null|               null|               null|               null|               null|               null|               null|               null|               null|               null|               null|               null|               null|               null|               null|               null|               null|               null|               null|               null|               null|               null|               null|               null|               null|               null|               null|               null|               null|               null|              57.06|               null|               null|              66.86|             null|               null|              73.73|               null|               null|               null|79.05|\n",
            "|         WLD|       World| World|       World|Financial Sector:...|Account ownership...|   FX.OWN.TOTL.YG.ZS|null|null|null|null|null|null|null|null|null|null|               null|               null|               null|               null|               null|               null|               null|               null|               null|               null|               null|               null|               null|               null|               null|               null|               null|               null|               null|               null|               null|               null|               null|               null|               null|               null|               null|               null|               null|               null|               null|               null|               null|               null|               null|               null|               null|               null|               null|               null|               null|              37.09|               null|               null|               46.9|             null|               null|               56.3|               null|               null|               null|65.52|\n",
            "|         WLD|       World| World|       World|Education: Partic...|Adjusted net enro...|         SE.PRM.TENR|null|null|null|null|null|null|null|null|null|null|               null|               null|               null|               null|               null|               null|               null|               null|               null|               null|               null|               null|               null|               null|               null|               null|               null|               null|               null|               null|               null|               null|               null|               null|               null|               null|               null|               null|               null|               null|               null|               null|               null|               null|               null|               null|               null|           89.74708|               null|           89.88673|           89.73896|           89.76079|           90.09036|           90.28756|           90.44798|         90.30999|            90.5136|           90.48209|           90.45493|               null|               null| null|\n",
            "|         WLD|       World| World|       World|Economic Policy &...|Adjusted net nati...|      NY.ADJ.NNTY.KD|null|null|null|null|null|null|null|null|null|null|               null|1.91216909556107E13|2.01805456220895E13|2.13851646201277E13|2.10377599847743E13|2.11751433851311E13| 2.2212448619687E13|2.29700909017997E13| 2.4060797140879E13|2.44232982735786E13|2.45281059244881E13|2.49328330610624E13|2.51649656128637E13|2.61015500167559E13|2.76712650078006E13|2.92930871635365E13|3.03981941041612E13|3.12332111230656E13|3.20192349060949E13|3.28741680236336E13|3.39005652314077E13|3.43239355451496E13|3.52115875858456E13|3.57365500654411E13|3.71772225765537E13|3.82778343455953E13|3.93015303609203E13|4.08727554864459E13|4.16756676170127E13|4.29023746323886E13|4.44371245975851E13|4.52560602005461E13|4.71041198360199E13|4.77358459022485E13|5.03622171761172E13|5.23003079985922E13|5.50076082222008E13|5.78029403140911E13|5.76279986841419E13|5.72880109082078E13|6.02972256847541E13|6.19276508975486E13|5.65478302755765E13|5.78789218696055E13|5.97688686500555E13|6.174985094258E13|6.33539530212934E13|6.56421529936231E13|6.71576175017842E13|6.88400077362057E13|6.59055669777768E13| null|\n",
            "|         WLD|       World| World|       World|Economic Policy &...|Adjusted net nati...|      NY.ADJ.NNTY.CD|null|null|null|null|null|null|null|null|null|null|2.55331541694488E12|2.81735309879866E12|3.25255419456703E12|3.95466096640239E12|4.44482671395608E12|4.94974832701335E12|5.37206206066573E12|6.05437453751543E12|7.16024576619413E12|8.10365206318316E12|9.04437370425657E12|9.41973427271521E12|9.39876630331537E12|9.53296446593691E12| 9.9425737122831E12|1.04562808150499E13|1.24050757155041E13|1.40744028778086E13|1.58726699511221E13|1.64678324199338E13|1.85009149933027E13|1.94969270925908E13|2.09752167641109E13|2.12422923632528E13| 2.2924681556648E13|2.55635106474509E13| 2.6264552957839E13|2.63224179390806E13|2.64863201176848E13|2.74761655072911E13|2.83462739705729E13| 2.8250581190944E13|2.96273597962962E13|3.33801498781612E13|3.79087919151284E13|4.13179712334185E13|4.53718981601766E13|5.16625936704531E13|5.67939318877025E13|5.50361076630334E13|6.09018528445449E13|6.76840399286031E13|6.15796045799924E13|6.31947435613264E13|6.51169189407412E13|6.174985094258E13|6.26180781318752E13|6.66766140063736E13|7.01183254584866E13|7.12420059612391E13|6.83706581034159E13| null|\n",
            "|         WLD|       World| World|       World|Economic Policy &...|Adjusted net nati...|NY.ADJ.NNTY.PC.KD.ZG|null|null|null|null|null|null|null|null|null|null|               null|               null|   3.45970046751007|   3.90382580301718|  -3.49238731258075|  -1.18049503581938|   3.04842687661137|    1.6265334856852|   2.94212801483769| -0.258917605106475|  -1.30231461160758| -0.116082667499143| -0.862105532413153|   1.90240701463658|   4.19516506245208|   4.03975908637655|   1.96592545608898|  0.941454887567744|  0.730204508165059|  0.909662200767841|   1.35297980052367| -0.427862175790693|  0.942915753658184|-0.0880074689881525|   2.45662261158661|   1.43813483625175|   1.17580676498991|   2.50825415307428|  0.538001599296067|   1.54165804231712|   2.19431033850309|  0.501376641693383|   2.73463455301992| 0.0517878067898749|   4.17410396353537|   2.55268197190377|   3.87082337481417|   3.78797656677622|  -1.53053142842198|  -1.80391947539084|   3.98211548889742|   1.48232144057627|  -9.80439572052796|   1.10389017778414|    2.0189063877483|  2.0949573822292|   1.40600931073749|   2.43288729132796|   1.19210434719265|    1.4340300762278|  -5.22116870281583| null|\n",
            "|         WLD|       World| World|       World|Economic Policy &...|Adjusted net nati...|   NY.ADJ.NNTY.PC.CD|null|null|null|null|null|null|null|null|null|null|   691.897846833184|   747.700574934085|   846.204992214282|   1008.81642381429|    1112.3267851658|   1216.12016230485|   1296.59899998185|   1436.06725394791|   1669.08812998959|   1856.14500267704|     2035.902058157|   2083.55507531252|   2041.98319271809|   2034.80957074683|   2085.83268505776|   2155.86268203872|    2513.1343226583|   2801.21838194956|   3104.07622286005|   3165.24814037686|   3495.01371149101|   3622.17590296488|   3834.39759400374|   3822.80961876517|   4063.12626236404|   4463.83712810601|   4519.31310452918|   4464.39465652944|   4429.35024505054|   4532.31418827948|    4613.4090555519|     4537.269613796|   4696.72229343175|   5224.31477956516|   5858.42067285678|   6305.61158959131|   6838.33282425831|   7690.58484315047|   8350.31935763705|   7993.05512617119|   8738.17350896346|   9595.76379242655|   8623.51264845881|   8741.61437095762|    8898.7825144787| 8339.04038052535|   8358.06577946545|   8798.52563034526|   9151.70612730129|   9201.20528888034|   8741.95366573991| null|\n",
            "|         WLD|       World| World|       World|Economic Policy &...|Adjusted net savi...|   NY.ADJ.SVNX.GN.ZS|null|null|null|null|null|null|null|null|null|null|               null|               null|               null|               null|               null|   10.8756628780696|   11.7654487751513|    11.416986869783|   11.8297314299658|   10.3273772169108|   8.89643401019726|   10.6272923188081|   9.69625333721515|   8.39326113181566|    9.7993772472251|   9.04488728918419|   8.16338652115218|   9.10372624211766|   9.13998545044959|   8.97187727581309|    7.6193102128467|   7.24369329502698|   7.11408056282848|    6.6663449584098|   7.88866356045149|   8.54028194869954|   10.5414250158827|   11.0241608768161|   10.6569912287823|   10.0486970114321|   9.95121527563863|   9.10232436259384|   8.77616059763117|   8.79818714672138|   9.60183250749892|   9.85052865357232|    10.931232681226|   11.0069206274871|   9.62067262326206|   7.84618849113638|   9.57319789322045|   9.90963425841888|   10.3710330932438|   10.2799701951739|    10.732214593919| 10.9751431949935|   10.5949530435771|   11.3082830814761|   10.9690160933041|   10.7456929087547|   9.88932988384763| null|\n",
            "+------------+------------+------+------------+--------------------+--------------------+--------------------+----+----+----+----+----+----+----+----+----+----+-------------------+-------------------+-------------------+-------------------+-------------------+-------------------+-------------------+-------------------+-------------------+-------------------+-------------------+-------------------+-------------------+-------------------+-------------------+-------------------+-------------------+-------------------+-------------------+-------------------+-------------------+-------------------+-------------------+-------------------+-------------------+-------------------+-------------------+-------------------+-------------------+-------------------+-------------------+-------------------+-------------------+-------------------+-------------------+-------------------+-------------------+-------------------+-------------------+-------------------+-------------------+-------------------+-------------------+-------------------+-------------------+-----------------+-------------------+-------------------+-------------------+-------------------+-------------------+-----+\n",
            "only showing top 10 rows\n",
            "\n"
          ]
        }
      ]
    },
    {
      "cell_type": "code",
      "source": [
        "# Divide the columns into numeric and string columns\n",
        "years_cols = [col[0] for col in wdi_csdf.dtypes if col[1] == 'double']\n",
        "name_cols = [col[0] for col in wdi_csdf.dtypes if col[1] == 'string']"
      ],
      "metadata": {
        "id": "BySkMHoOU2SU"
      },
      "execution_count": 44,
      "outputs": []
    },
    {
      "cell_type": "code",
      "source": [
        "print(\"Number of years in the dataset: {}\".format(len(years_cols)))"
      ],
      "metadata": {
        "colab": {
          "base_uri": "https://localhost:8080/"
        },
        "id": "UnVTI-tQU8VW",
        "outputId": "f85eeaa4-a918-4c9a-daef-e9afe8473976"
      },
      "execution_count": 45,
      "outputs": [
        {
          "output_type": "stream",
          "name": "stdout",
          "text": [
            "Number of years in the dataset: 62\n"
          ]
        }
      ]
    },
    {
      "cell_type": "code",
      "source": [
        "# Counts the number of records for each year\n",
        "wdi_csdf.select(years_cols).summary('count').show()\n",
        "     "
      ],
      "metadata": {
        "colab": {
          "base_uri": "https://localhost:8080/"
        },
        "id": "xlSeqH8gU-WO",
        "outputId": "83480b58-ef41-4dc0-8bd1-6935c29678c6"
      },
      "execution_count": 46,
      "outputs": [
        {
          "output_type": "stream",
          "name": "stdout",
          "text": [
            "+-------+-----+-----+-----+-----+-----+-----+-----+-----+-----+-----+-----+-----+-----+-----+-----+-----+-----+-----+-----+-----+-----+-----+-----+-----+-----+-----+-----+-----+-----+-----+------+------+------+------+------+------+------+------+------+------+------+------+------+------+------+------+------+------+------+------+------+------+------+------+------+------+------+------+------+------+------+-----+\n",
            "|summary| 1960| 1961| 1962| 1963| 1964| 1965| 1966| 1967| 1968| 1969| 1970| 1971| 1972| 1973| 1974| 1975| 1976| 1977| 1978| 1979| 1980| 1981| 1982| 1983| 1984| 1985| 1986| 1987| 1988| 1989|  1990|  1991|  1992|  1993|  1994|  1995|  1996|  1997|  1998|  1999|  2000|  2001|  2002|  2003|  2004|  2005|  2006|  2007|  2008|  2009|  2010|  2011|  2012|  2013|  2014|  2015|  2016|  2017|  2018|  2019|  2020| 2021|\n",
            "+-------+-----+-----+-----+-----+-----+-----+-----+-----+-----+-----+-----+-----+-----+-----+-----+-----+-----+-----+-----+-----+-----+-----+-----+-----+-----+-----+-----+-----+-----+-----+------+------+------+------+------+------+------+------+------+------+------+------+------+------+------+------+------+------+------+------+------+------+------+------+------+------+------+------+------+------+------+-----+\n",
            "|  count|31827|36287|37298|38125|38658|40555|40632|41194|41778|42452|55471|61562|63188|63676|64889|68086|70218|72395|73107|73758|78057|79876|79863|80635|81154|82311|82977|83102|83315|84551|105641|111518|114192|116505|118398|125354|125266|125213|128144|133439|156209|150756|153541|155027|159611|168956|169445|171288|172104|173336|182732|179525|180748|178641|184488|184352|181290|177952|175745|168230|139382|90326|\n",
            "+-------+-----+-----+-----+-----+-----+-----+-----+-----+-----+-----+-----+-----+-----+-----+-----+-----+-----+-----+-----+-----+-----+-----+-----+-----+-----+-----+-----+-----+-----+-----+------+------+------+------+------+------+------+------+------+------+------+------+------+------+------+------+------+------+------+------+------+------+------+------+------+------+------+------+------+------+------+-----+\n",
            "\n"
          ]
        }
      ]
    },
    {
      "cell_type": "code",
      "source": [
        "# Counts the number of records in string columns\n",
        "wdi_csdf.select(name_cols).summary('count').show()"
      ],
      "metadata": {
        "colab": {
          "base_uri": "https://localhost:8080/"
        },
        "id": "kdRKom47VAKb",
        "outputId": "06571d4b-f771-437e-9713-6181138a038b"
      },
      "execution_count": 47,
      "outputs": [
        {
          "output_type": "stream",
          "name": "stdout",
          "text": [
            "+-------+------------+------------+------+------------+------+--------------+--------------+\n",
            "|summary|Country Code|Country Name|Region|Income Group| Topic|Indicator Name|Indicator Code|\n",
            "+-------+------------+------------+------+------------+------+--------------+--------------+\n",
            "|  count|      312914|      312914|312914|      312914|312914|        312914|        312914|\n",
            "+-------+------------+------------+------+------------+------+--------------+--------------+\n",
            "\n"
          ]
        }
      ]
    },
    {
      "cell_type": "code",
      "source": [
        "wdi_csdf.select('Region').distinct().collect()"
      ],
      "metadata": {
        "colab": {
          "base_uri": "https://localhost:8080/"
        },
        "id": "z5Q9THs2VCr1",
        "outputId": "1c6732d5-614e-468c-b223-16210d63f895"
      },
      "execution_count": 48,
      "outputs": [
        {
          "output_type": "execute_result",
          "data": {
            "text/plain": [
              "[Row(Region='South Asia'),\n",
              " Row(Region='World'),\n",
              " Row(Region='Sub-Saharan Africa'),\n",
              " Row(Region='Europe & Central Asia'),\n",
              " Row(Region='North America'),\n",
              " Row(Region=' the economy is still counted as IBRD in the IDA- and IBRD-relevant group data in this version of WDI.\"'),\n",
              " Row(Region='East Asia & Pacific'),\n",
              " Row(Region='Middle East & North Africa'),\n",
              " Row(Region='Latin America & Caribbean')]"
            ]
          },
          "metadata": {},
          "execution_count": 48
        }
      ]
    },
    {
      "cell_type": "code",
      "source": [
        "(wdi_csdf.select('Country Code', 'Region').distinct()\n",
        "         .groupBy('Region').count().orderBy('count')\n",
        "         .show(truncate=False))"
      ],
      "metadata": {
        "colab": {
          "base_uri": "https://localhost:8080/"
        },
        "id": "qGiNfMcMVEMR",
        "outputId": "accbff9d-5c89-4619-c107-ae45e89eb640"
      },
      "execution_count": 49,
      "outputs": [
        {
          "output_type": "stream",
          "name": "stdout",
          "text": [
            "+-------------------------------------------------------------------------------------------------------+-----+\n",
            "|Region                                                                                                 |count|\n",
            "+-------------------------------------------------------------------------------------------------------+-----+\n",
            "| the economy is still counted as IBRD in the IDA- and IBRD-relevant group data in this version of WDI.\"|1    |\n",
            "|World                                                                                                  |1    |\n",
            "|North America                                                                                          |3    |\n",
            "|South Asia                                                                                             |7    |\n",
            "|Middle East & North Africa                                                                             |21   |\n",
            "|East Asia & Pacific                                                                                    |37   |\n",
            "|Latin America & Caribbean                                                                              |41   |\n",
            "|Sub-Saharan Africa                                                                                     |48   |\n",
            "|Europe & Central Asia                                                                                  |58   |\n",
            "+-------------------------------------------------------------------------------------------------------+-----+\n",
            "\n"
          ]
        }
      ]
    },
    {
      "cell_type": "code",
      "source": [
        "wdi_csdf.select('Income Group').distinct().collect()"
      ],
      "metadata": {
        "colab": {
          "base_uri": "https://localhost:8080/"
        },
        "id": "BfBVDs8aVF_S",
        "outputId": "135dd3ba-0586-4bfd-a05b-78274c957434"
      },
      "execution_count": 50,
      "outputs": [
        {
          "output_type": "execute_result",
          "data": {
            "text/plain": [
              "[Row(Income Group='South Asia'),\n",
              " Row(Income Group='Lower middle income'),\n",
              " Row(Income Group='World'),\n",
              " Row(Income Group='High income'),\n",
              " Row(Income Group='Upper middle income'),\n",
              " Row(Income Group='Low income')]"
            ]
          },
          "metadata": {},
          "execution_count": 50
        }
      ]
    },
    {
      "cell_type": "code",
      "source": [
        "\n",
        "(wdi_csdf.filter(wdi_csdf['Income Group'] != 'World')\n",
        "         .select('Country Code', 'Income Group').distinct()\n",
        "         .groupBy('Income Group').count()\n",
        "         .orderBy(F.desc('Income Group')).show())"
      ],
      "metadata": {
        "colab": {
          "base_uri": "https://localhost:8080/"
        },
        "id": "xMXzmaVMVHw4",
        "outputId": "f36af892-7ef1-4d37-bb0b-9d86c13a8969"
      },
      "execution_count": 51,
      "outputs": [
        {
          "output_type": "stream",
          "name": "stdout",
          "text": [
            "+-------------------+-----+\n",
            "|       Income Group|count|\n",
            "+-------------------+-----+\n",
            "|Upper middle income|   54|\n",
            "|         South Asia|    1|\n",
            "|Lower middle income|   53|\n",
            "|         Low income|   28|\n",
            "|        High income|   80|\n",
            "+-------------------+-----+\n",
            "\n"
          ]
        }
      ]
    },
    {
      "cell_type": "code",
      "source": [
        "wdi_csdf.select('Topic').distinct().count()"
      ],
      "metadata": {
        "colab": {
          "base_uri": "https://localhost:8080/"
        },
        "id": "LhhLRTFYVJ0L",
        "outputId": "6607d23b-0bfb-410a-a68e-1c329927a820"
      },
      "execution_count": 52,
      "outputs": [
        {
          "output_type": "execute_result",
          "data": {
            "text/plain": [
              "89"
            ]
          },
          "metadata": {},
          "execution_count": 52
        }
      ]
    },
    {
      "cell_type": "code",
      "source": [
        "(wdi_csdf.select('Indicator Code', 'Topic').distinct()\n",
        "         .groupBy('Topic').count().orderBy('Topic')\n",
        "         .show(10, False))"
      ],
      "metadata": {
        "colab": {
          "base_uri": "https://localhost:8080/"
        },
        "id": "6lP7e676VL6F",
        "outputId": "57ddb42a-6d8b-4fb4-dfb7-a1b88d9ee246"
      },
      "execution_count": 53,
      "outputs": [
        {
          "output_type": "stream",
          "name": "stdout",
          "text": [
            "+--------------------------------------------------------------------------------------+-----+\n",
            "|Topic                                                                                 |count|\n",
            "+--------------------------------------------------------------------------------------+-----+\n",
            "|Economic Policy & Debt: Balance of payments: Capital & financial account              |11   |\n",
            "|Economic Policy & Debt: Balance of payments: Current account: Balances                |4    |\n",
            "|Economic Policy & Debt: Balance of payments: Current account: Goods, services & income|22   |\n",
            "|Economic Policy & Debt: Balance of payments: Current account: Transfers               |7    |\n",
            "|Economic Policy & Debt: Balance of payments: Reserves & other items                   |6    |\n",
            "|Economic Policy & Debt: External debt: Debt outstanding                               |10   |\n",
            "|Economic Policy & Debt: External debt: Debt ratios & other items                      |11   |\n",
            "|Economic Policy & Debt: External debt: Debt service                                   |5    |\n",
            "|Economic Policy & Debt: External debt: Net flows                                      |20   |\n",
            "|Economic Policy & Debt: National accounts: Adjusted savings & income                  |28   |\n",
            "+--------------------------------------------------------------------------------------+-----+\n",
            "only showing top 10 rows\n",
            "\n"
          ]
        }
      ]
    },
    {
      "cell_type": "code",
      "source": [
        "# Create a list of columns to analyze\n",
        "ind_nc_topic = ['Indicator Name', 'Indicator Code', 'Topic']"
      ],
      "metadata": {
        "id": "RphIJ4GtVNkP"
      },
      "execution_count": 54,
      "outputs": []
    },
    {
      "cell_type": "code",
      "source": [
        "def rename_agg_cols(df, cols_rename, chars, new_form=None):\n",
        "    \"\"\"Return a new DataFrame with renamed aggregate columns.\n",
        "\n",
        "    Parameters:\n",
        "    df -- a PySpark DataFrame\n",
        "    cols_rename -- names of columns to rename\n",
        "    chars -- a string specifying the set of characters to be removed\n",
        "    new_form -- a new format of column names\n",
        "    \"\"\"\n",
        "    for old_name in cols_rename:\n",
        "    \n",
        "        if new_form:\n",
        "            new_name = new_form.format(old_name.strip(chars)) \n",
        "        else:\n",
        "            new_name = old_name.strip(chars)\n",
        "\n",
        "        df = df.withColumnRenamed(old_name, new_name)\n",
        "\n",
        "    return df"
      ],
      "metadata": {
        "id": "pLAugCvyVPJ3"
      },
      "execution_count": 55,
      "outputs": []
    },
    {
      "cell_type": "code",
      "source": [
        "wdi_csdf.groupBy('Indicator Code').count().select('count').distinct().show()"
      ],
      "metadata": {
        "colab": {
          "base_uri": "https://localhost:8080/"
        },
        "id": "Lk5qj_W0VSr8",
        "outputId": "f2b2fcfc-34a2-4725-82b3-6e2964c2e397"
      },
      "execution_count": 56,
      "outputs": [
        {
          "output_type": "stream",
          "name": "stdout",
          "text": [
            "+-----+\n",
            "|count|\n",
            "+-----+\n",
            "|  217|\n",
            "+-----+\n",
            "\n"
          ]
        }
      ]
    },
    {
      "cell_type": "code",
      "source": [
        "# Count the number of countries with data for each indicator\n",
        "# (the specific year does not matter)\n",
        "country_ind = (wdi_csdf.dropna('all', subset=years_cols)\n",
        "                       .groupBy(ind_nc_topic)\n",
        "                       .count())\n",
        "\n",
        "country_ind.select('Indicator Name', 'count').show(7, False)"
      ],
      "metadata": {
        "colab": {
          "base_uri": "https://localhost:8080/"
        },
        "id": "PfKz0XP6VV37",
        "outputId": "01c66bfe-455e-419b-eb54-c672aeb5651b"
      },
      "execution_count": 65,
      "outputs": [
        {
          "output_type": "stream",
          "name": "stdout",
          "text": [
            "+-----------------------------------------------------+-----+\n",
            "|Indicator Name                                       |count|\n",
            "+-----------------------------------------------------+-----+\n",
            "|Depth of credit information index (0=low to 8=high)  |190  |\n",
            "|Manufactures exports (% of merchandise exports)      |198  |\n",
            "|People practicing open defecation (% of population)  |215  |\n",
            "|Personal remittances, received (% of GDP)            |198  |\n",
            "|Electricity production from coal sources (% of total)|142  |\n",
            "|GNI growth (annual %)                                |167  |\n",
            "|International tourism, number of arrivals            |203  |\n",
            "+-----------------------------------------------------+-----+\n",
            "only showing top 7 rows\n",
            "\n"
          ]
        }
      ]
    },
    {
      "cell_type": "code",
      "source": [
        "# Count the number of indicators with data for each country\n",
        "# (the specific indicator does not matter)\n",
        "(wdi_csdf.dropna('all', subset=years_cols)\n",
        "         .groupBy('Country Name').count()\n",
        "         .select('Country Name', 'count')\n",
        "         .limit(5).collect())"
      ],
      "metadata": {
        "colab": {
          "base_uri": "https://localhost:8080/"
        },
        "id": "mNIXzpebVX02",
        "outputId": "c5d1acc9-9b3a-4c08-9333-364131fa211f"
      },
      "execution_count": 66,
      "outputs": [
        {
          "output_type": "execute_result",
          "data": {
            "text/plain": [
              "[Row(Country Name='Chad', count=1234),\n",
              " Row(Country Name='Paraguay', count=1342),\n",
              " Row(Country Name='World', count=941),\n",
              " Row(Country Name='Congo, Dem. Rep.', count=1323),\n",
              " Row(Country Name='Senegal', count=1374)]"
            ]
          },
          "metadata": {},
          "execution_count": 66
        }
      ]
    },
    {
      "cell_type": "code",
      "source": [
        "# Set the lower and upper bounds (inclusive) for selecting indicators\n",
        "sel_bounds = (200, 220)"
      ],
      "metadata": {
        "id": "1G39N6OyVZxk"
      },
      "execution_count": 67,
      "outputs": []
    },
    {
      "cell_type": "code",
      "source": [
        "# Find out indicators with data in a certain number of countries\n",
        "country_ind_sel = country_ind.where(F.col('count').between(*sel_bounds))\n",
        "country_ind_sel.count()"
      ],
      "metadata": {
        "colab": {
          "base_uri": "https://localhost:8080/"
        },
        "id": "w-0yVLwfVbTa",
        "outputId": "0f39ffab-cca9-4f4f-fa3c-a417c89e9022"
      },
      "execution_count": 68,
      "outputs": [
        {
          "output_type": "execute_result",
          "data": {
            "text/plain": [
              "298"
            ]
          },
          "metadata": {},
          "execution_count": 68
        }
      ]
    },
    {
      "cell_type": "code",
      "source": [
        "# View which topics these indicators relate to\n",
        "country_ind_sel.select('Topic').distinct().limit(5).collect()"
      ],
      "metadata": {
        "colab": {
          "base_uri": "https://localhost:8080/"
        },
        "id": "QJPhHAcqVc6B",
        "outputId": "aa576347-114b-4f56-b997-f65bdc26b90e"
      },
      "execution_count": 69,
      "outputs": [
        {
          "output_type": "execute_result",
          "data": {
            "text/plain": [
              "[Row(Topic='Education: Efficiency'),\n",
              " Row(Topic='Social Protection & Labor: Labor force structure'),\n",
              " Row(Topic='Environment: Density & urbanization'),\n",
              " Row(Topic='Environment: Agricultural production'),\n",
              " Row(Topic='Public Sector: Policy & institutions')]"
            ]
          },
          "metadata": {},
          "execution_count": 69
        }
      ]
    },
    {
      "cell_type": "code",
      "source": [
        "country_ind_sel.select('Topic').distinct().count()"
      ],
      "metadata": {
        "colab": {
          "base_uri": "https://localhost:8080/"
        },
        "id": "t0rcGEnTVehE",
        "outputId": "600cb2eb-a931-4eda-d94b-d9e8dca75e93"
      },
      "execution_count": 70,
      "outputs": [
        {
          "output_type": "execute_result",
          "data": {
            "text/plain": [
              "45"
            ]
          },
          "metadata": {},
          "execution_count": 70
        }
      ]
    },
    {
      "cell_type": "code",
      "source": [
        "# Count the number of countries with data for each indicator in each year\n",
        "agg_op = {year: 'count' for year in years_cols}\n",
        "year_ind_agg = (wdi_csdf.groupBy(ind_nc_topic)\n",
        "                        .agg(agg_op)\n",
        "                        .orderBy('Indicator Name'))\n",
        "\n",
        "# Use our defined function to rename aggregate columns\n",
        "year_ind = rename_agg_cols(year_ind_agg.select(ind_nc_topic\n",
        "                                               + sorted(year_ind_agg.columns[3:])), \n",
        "                           year_ind_agg.columns[3:], 'count()')\n",
        "\n",
        "year_ind.show(10)"
      ],
      "metadata": {
        "colab": {
          "base_uri": "https://localhost:8080/"
        },
        "id": "zmZi1gWMVgFY",
        "outputId": "48f79545-7ef1-4a1b-f428-249025df029f"
      },
      "execution_count": 71,
      "outputs": [
        {
          "output_type": "stream",
          "name": "stdout",
          "text": [
            "+--------------------+-----------------+--------------------+----+----+----+----+----+----+----+----+----+----+----+----+----+----+----+----+----+----+----+----+----+----+----+----+----+----+----+----+----+----+----+----+----+----+----+----+----+----+----+----+----+----+----+----+----+----+----+----+----+----+----+----+----+----+----+----+----+----+----+----+----+----+\n",
            "|      Indicator Name|   Indicator Code|               Topic|1960|1961|1962|1963|1964|1965|1966|1967|1968|1969|1970|1971|1972|1973|1974|1975|1976|1977|1978|1979|1980|1981|1982|1983|1984|1985|1986|1987|1988|1989|1990|1991|1992|1993|1994|1995|1996|1997|1998|1999|2000|2001|2002|2003|2004|2005|2006|2007|2008|2009|2010|2011|2012|2013|2014|2015|2016|2017|2018|2019|2020|2021|\n",
            "+--------------------+-----------------+--------------------+----+----+----+----+----+----+----+----+----+----+----+----+----+----+----+----+----+----+----+----+----+----+----+----+----+----+----+----+----+----+----+----+----+----+----+----+----+----+----+----+----+----+----+----+----+----+----+----+----+----+----+----+----+----+----+----+----+----+----+----+----+----+\n",
            "|ARI treatment (% ...|   SH.STA.ARIC.ZS|Health: Disease p...|   0|   0|   0|   0|   0|   0|   0|   0|   0|   0|   0|   0|   0|   0|   0|   0|   0|   0|   0|   0|   0|   0|   0|   0|   0|   0|   0|   0|   0|   0|   0|   0|   0|   0|   0|   0|   0|   0|   0|   0|  49|  10|  11|  13|   9|  20|  45|  15|   9|  13|  28|  25|  26|  19|  32|  15|  20|  11|  23|  18|   8|   2|\n",
            "|Access to clean f...|   EG.CFT.ACCS.ZS|Environment: Ener...|   0|   0|   0|   0|   0|   0|   0|   0|   0|   0|   0|   0|   0|   0|   0|   0|   0|   0|   0|   0|   0|   0|   0|   0|   0|   0|   0|   0|   0|   0|   0|   0|   0|   0|   0|   0|   0|   0|   0|   0| 190| 190| 190| 190| 190| 190| 190| 190| 190| 190| 190| 190| 190| 190| 190| 190| 190| 189| 189| 189| 189|   0|\n",
            "|Access to clean f...|EG.CFT.ACCS.RU.ZS|Environment: Ener...|   0|   0|   0|   0|   0|   0|   0|   0|   0|   0|   0|   0|   0|   0|   0|   0|   0|   0|   0|   0|   0|   0|   0|   0|   0|   0|   0|   0|   0|   0|   0|   0|   0|   0|   0|   0|   0|   0|   0|   0| 189| 189| 189| 189| 189| 189| 189| 189| 189| 189| 189| 189| 189| 189| 189| 189| 189| 189| 189| 189| 189|   0|\n",
            "|Access to clean f...|EG.CFT.ACCS.UR.ZS|Environment: Ener...|   0|   0|   0|   0|   0|   0|   0|   0|   0|   0|   0|   0|   0|   0|   0|   0|   0|   0|   0|   0|   0|   0|   0|   0|   0|   0|   0|   0|   0|   0|   0|   0|   0|   0|   0|   0|   0|   0|   0|   0| 189| 189| 189| 189| 189| 189| 189| 189| 189| 189| 189| 189| 189| 189| 189| 189| 189| 189| 189| 189| 189|   0|\n",
            "|Access to electri...|   EG.ELC.ACCS.ZS|Environment: Ener...|   0|   0|   0|   0|   0|   0|   0|   0|   0|   0|   0|   0|   0|   0|   0|   0|   0|   0|   0|   0|   0|   0|   0|   0|   0|   0|   0|   0|   0|   0|  98| 109| 122| 131| 137| 144| 153| 159| 166| 172| 211| 211| 212| 212| 212| 212| 213| 214| 214| 215| 216| 215| 216| 216| 216| 216| 216| 216| 215| 216| 215|   0|\n",
            "|Access to electri...|EG.ELC.ACCS.RU.ZS|Environment: Ener...|   0|   0|   0|   0|   0|   0|   0|   0|   0|   0|   0|   0|   0|   0|   0|   0|   0|   0|   0|   0|   0|   0|   0|   0|   0|   0|   0|   0|   0|   0|  92| 103| 113| 121| 128| 135| 144| 146| 151| 155| 192| 194| 195| 199| 203| 201| 203| 203| 204| 202| 204| 205| 205| 207| 209| 211| 207| 204| 203| 204| 209|   0|\n",
            "|Access to electri...|EG.ELC.ACCS.UR.ZS|Environment: Ener...|   0|   0|   0|   0|   0|   0|   0|   0|   0|   0|   0|   0|   0|   0|   0|   0|   0|   0|   0|   0|   0|   0|   0|   0|   0|   0|   0|   0|   0|   0|  98| 109| 123| 134| 139| 146| 155| 160| 164| 170| 211| 211| 211| 211| 211| 211| 211| 212| 212| 213| 213| 213| 214| 214| 214| 214| 214| 212| 207| 209| 213|   0|\n",
            "|Account ownership...|   FX.OWN.TOTL.ZS|Financial Sector:...|   0|   0|   0|   0|   0|   0|   0|   0|   0|   0|   0|   0|   0|   0|   0|   0|   0|   0|   0|   0|   0|   0|   0|   0|   0|   0|   0|   0|   0|   0|   0|   0|   0|   0|   0|   0|   0|   0|   0|   0|   0|   0|   0|   0|   0|   0|   0|   0|   0|   0|   0| 142|   0|   0| 141|   0|   0| 145|   0|   0|   0| 122|\n",
            "|Account ownership...|FX.OWN.TOTL.FE.ZS|Financial Sector:...|   0|   0|   0|   0|   0|   0|   0|   0|   0|   0|   0|   0|   0|   0|   0|   0|   0|   0|   0|   0|   0|   0|   0|   0|   0|   0|   0|   0|   0|   0|   0|   0|   0|   0|   0|   0|   0|   0|   0|   0|   0|   0|   0|   0|   0|   0|   0|   0|   0|   0|   0| 142|   0|   0| 141|   0|   0| 145|   0|   0|   0| 122|\n",
            "|Account ownership...|FX.OWN.TOTL.MA.ZS|Financial Sector:...|   0|   0|   0|   0|   0|   0|   0|   0|   0|   0|   0|   0|   0|   0|   0|   0|   0|   0|   0|   0|   0|   0|   0|   0|   0|   0|   0|   0|   0|   0|   0|   0|   0|   0|   0|   0|   0|   0|   0|   0|   0|   0|   0|   0|   0|   0|   0|   0|   0|   0|   0| 142|   0|   0| 141|   0|   0| 145|   0|   0|   0| 122|\n",
            "+--------------------+-----------------+--------------------+----+----+----+----+----+----+----+----+----+----+----+----+----+----+----+----+----+----+----+----+----+----+----+----+----+----+----+----+----+----+----+----+----+----+----+----+----+----+----+----+----+----+----+----+----+----+----+----+----+----+----+----+----+----+----+----+----+----+----+----+----+----+\n",
            "only showing top 10 rows\n",
            "\n"
          ]
        }
      ]
    },
    {
      "cell_type": "code",
      "source": [
        "def collect_cols(df, cols, new_cols, bounds=None, exp_isnull=None):\n",
        "    \"\"\"Collects in a new column all the column names whose values match \n",
        "    the condition, and counts the number of such columns.\n",
        "\n",
        "    Parameters:\n",
        "    df -- a PySpark DataFrame\n",
        "    cols -- columns whose value will be compared with the condition\n",
        "    new_cols -- names for the two new columns\n",
        "    bounds -- values for the PySpark Column method \"between()\" \n",
        "    to select columns (default None)\n",
        "    exp_isnull -- whether to use the PySpark Column methods \"isNull()\" \n",
        "    (if True) or \"isNotNull()\" (if bounds is None) (default None). \n",
        "    This parameter is ignored when bounds have a value other than None\n",
        "    \n",
        "    Return a new DataFrame with the two new columns.\n",
        "    \"\"\"\n",
        "    if bounds:\n",
        "        cond = [F.when(df[col].between(*bounds), F.lit(col)) for col in cols]\n",
        "    elif exp_isnull:\n",
        "        cond = [F.when(df[col].isNull(), F.lit(col)) for col in cols]\n",
        "    else:\n",
        "        cond = [F.when(df[col].isNotNull(), F.lit(col)) for col in cols]\n",
        "\n",
        "    new_df = (df.withColumn(new_cols[0], F.array_sort(F.array(cond)))\n",
        "                .withColumn(new_cols[0], \n",
        "                            F.array_intersect(new_cols[0], \n",
        "                                              F.array([F.lit(col) for col in cols])))\n",
        "                .withColumn(new_cols[1], F.size(new_cols[0]))\n",
        "                .select('*'))\n",
        "\n",
        "    return new_df\n",
        "     \n"
      ],
      "metadata": {
        "id": "_PD_vAT4Vh5u"
      },
      "execution_count": 64,
      "outputs": []
    },
    {
      "cell_type": "code",
      "source": [
        "# Find out the years when the indicators have entries in a certain number \n",
        "# of countries\n",
        "year_country_ind = collect_cols(year_ind, years_cols, \n",
        "                                ['Name_years', 'Num_years'], \n",
        "                                bounds=sel_bounds).drop(*years_cols)\n",
        "                            \n",
        "year_country_ind.select('*').show(5)"
      ],
      "metadata": {
        "colab": {
          "base_uri": "https://localhost:8080/"
        },
        "id": "KqYiGC-wVkkt",
        "outputId": "03165596-4430-4338-cb89-a8141864a61e"
      },
      "execution_count": 72,
      "outputs": [
        {
          "output_type": "stream",
          "name": "stdout",
          "text": [
            "+--------------------+-----------------+--------------------+--------------------+---------+\n",
            "|      Indicator Name|   Indicator Code|               Topic|          Name_years|Num_years|\n",
            "+--------------------+-----------------+--------------------+--------------------+---------+\n",
            "|ARI treatment (% ...|   SH.STA.ARIC.ZS|Health: Disease p...|                  []|        0|\n",
            "|Access to clean f...|   EG.CFT.ACCS.ZS|Environment: Ener...|                  []|        0|\n",
            "|Access to clean f...|EG.CFT.ACCS.RU.ZS|Environment: Ener...|                  []|        0|\n",
            "|Access to clean f...|EG.CFT.ACCS.UR.ZS|Environment: Ener...|                  []|        0|\n",
            "|Access to electri...|   EG.ELC.ACCS.ZS|Environment: Ener...|[2000, 2001, 2002...|       21|\n",
            "+--------------------+-----------------+--------------------+--------------------+---------+\n",
            "only showing top 5 rows\n",
            "\n"
          ]
        }
      ]
    },
    {
      "cell_type": "code",
      "source": [
        "# Select indicators that have values in a certain number of countries and years\n",
        "year_country_ind_sel = year_country_ind.filter(year_country_ind['Num_years'] >= 50)\n",
        "\n",
        "# Create a list of these indicator names\n",
        "year_country_ind_sel.select(ind_nc_topic[:2]).show(7, False)"
      ],
      "metadata": {
        "colab": {
          "base_uri": "https://localhost:8080/"
        },
        "id": "-lKOSw6SVrQF",
        "outputId": "25cd2266-2f78-4f20-ca51-df6a2eaf9838"
      },
      "execution_count": 73,
      "outputs": [
        {
          "output_type": "stream",
          "name": "stdout",
          "text": [
            "+-------------------------------------------------------------+--------------+\n",
            "|Indicator Name                                               |Indicator Code|\n",
            "+-------------------------------------------------------------+--------------+\n",
            "|Adjusted savings: mineral depletion (current US$)            |NY.ADJ.DMIN.CD|\n",
            "|Adolescent fertility rate (births per 1,000 women ages 15-19)|SP.ADO.TFRT   |\n",
            "|Age dependency ratio (% of working-age population)           |SP.POP.DPND   |\n",
            "|Age dependency ratio, old (% of working-age population)      |SP.POP.DPND.OL|\n",
            "|Age dependency ratio, young (% of working-age population)    |SP.POP.DPND.YG|\n",
            "|Agricultural land (% of land area)                           |AG.LND.AGRI.ZS|\n",
            "|Agricultural land (sq. km)                                   |AG.LND.AGRI.K2|\n",
            "+-------------------------------------------------------------+--------------+\n",
            "only showing top 7 rows\n",
            "\n"
          ]
        }
      ]
    },
    {
      "cell_type": "code",
      "source": [
        "year_country_ind_sel.select('Topic').distinct().limit(5).collect()"
      ],
      "metadata": {
        "colab": {
          "base_uri": "https://localhost:8080/"
        },
        "id": "SAOplOrFVtKh",
        "outputId": "d3b6e8ad-f67a-49db-87e7-a436183a50a5"
      },
      "execution_count": 74,
      "outputs": [
        {
          "output_type": "execute_result",
          "data": {
            "text/plain": [
              "[Row(Topic='Environment: Density & urbanization'),\n",
              " Row(Topic='Environment: Agricultural production'),\n",
              " Row(Topic='Environment: Land use'),\n",
              " Row(Topic='Economic Policy & Debt: National accounts: Adjusted savings & income'),\n",
              " Row(Topic='Health: Population: Structure')]"
            ]
          },
          "metadata": {},
          "execution_count": 74
        }
      ]
    },
    {
      "cell_type": "code",
      "source": [
        "year_country_ind_sel.select('Topic').distinct().count()"
      ],
      "metadata": {
        "colab": {
          "base_uri": "https://localhost:8080/"
        },
        "id": "TmqboqMTVu0P",
        "outputId": "49a166d8-5ef7-4b9d-ac48-2b0999591cb3"
      },
      "execution_count": 75,
      "outputs": [
        {
          "output_type": "execute_result",
          "data": {
            "text/plain": [
              "10"
            ]
          },
          "metadata": {},
          "execution_count": 75
        }
      ]
    },
    {
      "cell_type": "code",
      "source": [
        "# Find out in which years the indicators have records in certain countries\n",
        "wdi_csdf_years = collect_cols(wdi_csdf, years_cols, \n",
        "                              ['Name_years_c', 'Num_years_c']).drop(*years_cols)\n",
        "\n",
        "wdi_csdf_years.select('Country Name', 'Indicator Name',\n",
        "                      'Name_years_c', 'Num_years_c').show(5)"
      ],
      "metadata": {
        "colab": {
          "base_uri": "https://localhost:8080/"
        },
        "id": "JzIlkeg6Vwak",
        "outputId": "8307759c-7a30-434a-9ca2-44724bfc58dd"
      },
      "execution_count": 76,
      "outputs": [
        {
          "output_type": "stream",
          "name": "stdout",
          "text": [
            "+------------+--------------------+--------------------+-----------+\n",
            "|Country Name|      Indicator Name|        Name_years_c|Num_years_c|\n",
            "+------------+--------------------+--------------------+-----------+\n",
            "|       World|Access to clean f...|[2000, 2001, 2002...|         21|\n",
            "|       World|Access to clean f...|[2000, 2001, 2002...|         21|\n",
            "|       World|Access to clean f...|[2000, 2001, 2002...|         21|\n",
            "|       World|Access to electri...|[1998, 1999, 2000...|         23|\n",
            "|       World|Access to electri...|[2000, 2001, 2002...|         21|\n",
            "+------------+--------------------+--------------------+-----------+\n",
            "only showing top 5 rows\n",
            "\n"
          ]
        }
      ]
    },
    {
      "cell_type": "code",
      "source": [
        "# Create a new DataFrame with decimal values\n",
        "pop_df1 = (wdi_csdf\n",
        "          .filter(wdi_csdf['Indicator Code'].isin(['SP.POP.TOTL', \n",
        "                                                   'EN.POP.DNST']))\n",
        "          .select('Income Group', 'Indicator Name', \n",
        "                  *[wdi_csdf[cname].astype(DecimalType()) \n",
        "                    for cname in wdi_csdf.columns[-6:-1]])\n",
        "          .groupBy('Income Group', 'Indicator Name').sum()\n",
        "          .withColumnRenamed('Income Group', 'IncomeGroup')\n",
        "          .withColumnRenamed('Indicator Name', 'IndicatorName'))\n",
        "\n",
        "pop_df = rename_agg_cols(pop_df1, pop_df1.schema.names[2:], 'sum()', 'YR{}')\n",
        "\n",
        "# Create a local temporary view with this DataFrame\n",
        "pop_df.createOrReplaceTempView('Population')"
      ],
      "metadata": {
        "id": "9J8X2Nn1VyUL"
      },
      "execution_count": 77,
      "outputs": []
    },
    {
      "cell_type": "code",
      "source": [
        "query1 = \"SELECT * FROM Population ORDER BY IncomeGroup, IndicatorName\"\n",
        "spark.sql(query1).show(5)"
      ],
      "metadata": {
        "colab": {
          "base_uri": "https://localhost:8080/"
        },
        "id": "nqSAyBzsV0VZ",
        "outputId": "2b6df30d-122a-4163-e28d-90c28c0bbb6b"
      },
      "execution_count": 78,
      "outputs": [
        {
          "output_type": "stream",
          "name": "stdout",
          "text": [
            "+-------------------+--------------------+----------+----------+----------+----------+----------+\n",
            "|        IncomeGroup|       IndicatorName|    YR2016|    YR2017|    YR2018|    YR2019|    YR2020|\n",
            "+-------------------+--------------------+----------+----------+----------+----------+----------+\n",
            "|        High income|Population densit...|     75139|     75516|     74794|     75442|     75766|\n",
            "|        High income|   Population, total|1195037039|1201180693|1207103958|1212278212|1217317132|\n",
            "|         Low income|Population densit...|      2789|      2852|      2922|      3002|      3079|\n",
            "|         Low income|   Population, total| 626382245| 643485701| 661256583| 680013468| 699186538|\n",
            "|Lower middle income|Population densit...|      8221|      8326|      8431|      8528|      8640|\n",
            "+-------------------+--------------------+----------+----------+----------+----------+----------+\n",
            "only showing top 5 rows\n",
            "\n"
          ]
        }
      ]
    },
    {
      "cell_type": "code",
      "source": [
        "query2 = \"SELECT *  FROM Population WHERE IncomeGroup != 'World' ORDER BY IncomeGroup, IndicatorName\"\n",
        "spark.sql(query2).show(5)\n",
        "     "
      ],
      "metadata": {
        "colab": {
          "base_uri": "https://localhost:8080/"
        },
        "id": "yup71QTgV2mw",
        "outputId": "54c0d4ec-1d0a-44b0-aeed-7bc84ead3a6f"
      },
      "execution_count": 79,
      "outputs": [
        {
          "output_type": "stream",
          "name": "stdout",
          "text": [
            "+-------------------+--------------------+----------+----------+----------+----------+----------+\n",
            "|        IncomeGroup|       IndicatorName|    YR2016|    YR2017|    YR2018|    YR2019|    YR2020|\n",
            "+-------------------+--------------------+----------+----------+----------+----------+----------+\n",
            "|        High income|Population densit...|     75139|     75516|     74794|     75442|     75766|\n",
            "|        High income|   Population, total|1195037039|1201180693|1207103958|1212278212|1217317132|\n",
            "|         Low income|Population densit...|      2789|      2852|      2922|      3002|      3079|\n",
            "|         Low income|   Population, total| 626382245| 643485701| 661256583| 680013468| 699186538|\n",
            "|Lower middle income|Population densit...|      8221|      8326|      8431|      8528|      8640|\n",
            "+-------------------+--------------------+----------+----------+----------+----------+----------+\n",
            "only showing top 5 rows\n",
            "\n"
          ]
        }
      ]
    },
    {
      "cell_type": "code",
      "source": [
        "pop_window = Window.partitionBy('IndicatorName').orderBy(pop_df.columns[2:])\n",
        "        \n",
        "pop_df.withColumn('Rank', F.dense_rank().over(pop_window)).show()  "
      ],
      "metadata": {
        "colab": {
          "base_uri": "https://localhost:8080/"
        },
        "id": "YFhw5lm1V4UG",
        "outputId": "69a777ab-f1f8-4591-ee88-0c3cfa12e04c"
      },
      "execution_count": 80,
      "outputs": [
        {
          "output_type": "stream",
          "name": "stdout",
          "text": [
            "+-------------------+--------------------+----------+----------+----------+----------+----------+----+\n",
            "|        IncomeGroup|       IndicatorName|    YR2016|    YR2017|    YR2018|    YR2019|    YR2020|Rank|\n",
            "+-------------------+--------------------+----------+----------+----------+----------+----------+----+\n",
            "|              World|Population densit...|        58|        58|        59|        60|        60|   1|\n",
            "|         South Asia|Population densit...|       343|       346|       350|       352|       354|   2|\n",
            "|         Low income|Population densit...|      2789|      2852|      2922|      3002|      3079|   3|\n",
            "|Upper middle income|Population densit...|      7077|      7146|      7218|      7275|      7323|   4|\n",
            "|Lower middle income|Population densit...|      8221|      8326|      8431|      8528|      8640|   5|\n",
            "|        High income|Population densit...|     75139|     75516|     74794|     75442|     75766|   6|\n",
            "|         South Asia|   Population, total|  21203000|  21444000|  21670000|  21803000|  21919000|   1|\n",
            "|         Low income|   Population, total| 626382245| 643485701| 661256583| 680013468| 699186538|   2|\n",
            "|        High income|   Population, total|1195037039|1201180693|1207103958|1212278212|1217317132|   3|\n",
            "|Upper middle income|   Population, total|2436043943|2453799496|2469801107|2483924063|2495285443|   4|\n",
            "|Lower middle income|   Population, total|3159018060|3204131822|3248544763|3292100477|3335199135|   5|\n",
            "|              World|   Population, total|7491934113|7578157615|7661776338|7742681934|7820981524|   6|\n",
            "+-------------------+--------------------+----------+----------+----------+----------+----------+----+\n",
            "\n"
          ]
        }
      ]
    },
    {
      "cell_type": "code",
      "source": [
        "def transpose_cols(df, show_cols, unpivot_cols=None, new_names=('Key', 'Val'), \n",
        "                   pivot_col=None, group_cols=('Key', 'Val')):\n",
        "    \"\"\"Returns a new transpose DataFrame or Group data (if a pivot is used).\n",
        "\n",
        "    Parameters:\n",
        "    df -- a PySpark DataFrame\n",
        "    show_cols -- columns that will be displayed along with the new columns\n",
        "    unpivot_cols -- columns that will be unpivot\n",
        "    new_names -- names for two new columns that will be created by unpivoting\n",
        "    pivot_col -- a column whose values will be new columns \n",
        "    (aggregation is not used)\n",
        "    group_cols -- a tuple of columns for grouping\n",
        "    \"\"\"\n",
        "    if unpivot_cols:\n",
        "        transp_df = (df.select('*', F.explode_outer(F.array(\n",
        "            [F.create_map(F.lit(name), F.col(name)) \n",
        "            for name in unpivot_cols])).alias('New_cols'))\n",
        "                       .select(*show_cols, \n",
        "                               F.explode_outer('New_cols').alias(*new_names)))\n",
        "\n",
        "        if pivot_col: \n",
        "            transp_df = (transp_df.withColumn(pivot_col, df[pivot_col])\n",
        "                                  .groupBy(*group_cols).pivot(pivot_col))\n",
        "            \n",
        "    elif pivot_col:\n",
        "        transp_df = df.groupBy(*group_cols).pivot(pivot_col)\n",
        "\n",
        "    return transp_df"
      ],
      "metadata": {
        "id": "Bx4vSf7pV6KE"
      },
      "execution_count": 81,
      "outputs": []
    },
    {
      "cell_type": "code",
      "source": [
        "# Transpose the DataFrame so that the indicators and the years are reversed\n",
        "tr_pop_df = transpose_cols(pop_df, pop_df.columns[:2], \n",
        "                           unpivot_cols=pop_df.columns[2:], \n",
        "                           new_names=('Years', 'Vals'), \n",
        "                           pivot_col='IndicatorName', \n",
        "                           group_cols=('IncomeGroup', 'Years'))\n",
        "\n",
        "tr_pop_df.max().orderBy('IncomeGroup', 'Years').show()\n",
        "     "
      ],
      "metadata": {
        "colab": {
          "base_uri": "https://localhost:8080/"
        },
        "id": "7BPdloibV8Io",
        "outputId": "aba14f37-a426-4c60-de06-de080a8a60be"
      },
      "execution_count": 82,
      "outputs": [
        {
          "output_type": "stream",
          "name": "stdout",
          "text": [
            "+-------------------+------+---------------------------------------------------+-----------------+\n",
            "|        IncomeGroup| Years|Population density (people per sq. km of land area)|Population, total|\n",
            "+-------------------+------+---------------------------------------------------+-----------------+\n",
            "|        High income|YR2016|                                              75139|       1195037039|\n",
            "|        High income|YR2017|                                              75516|       1201180693|\n",
            "|        High income|YR2018|                                              74794|       1207103958|\n",
            "|        High income|YR2019|                                              75442|       1212278212|\n",
            "|        High income|YR2020|                                              75766|       1217317132|\n",
            "|         Low income|YR2016|                                               2789|        626382245|\n",
            "|         Low income|YR2017|                                               2852|        643485701|\n",
            "|         Low income|YR2018|                                               2922|        661256583|\n",
            "|         Low income|YR2019|                                               3002|        680013468|\n",
            "|         Low income|YR2020|                                               3079|        699186538|\n",
            "|Lower middle income|YR2016|                                               8221|       3159018060|\n",
            "|Lower middle income|YR2017|                                               8326|       3204131822|\n",
            "|Lower middle income|YR2018|                                               8431|       3248544763|\n",
            "|Lower middle income|YR2019|                                               8528|       3292100477|\n",
            "|Lower middle income|YR2020|                                               8640|       3335199135|\n",
            "|         South Asia|YR2016|                                                343|         21203000|\n",
            "|         South Asia|YR2017|                                                346|         21444000|\n",
            "|         South Asia|YR2018|                                                350|         21670000|\n",
            "|         South Asia|YR2019|                                                352|         21803000|\n",
            "|         South Asia|YR2020|                                                354|         21919000|\n",
            "+-------------------+------+---------------------------------------------------+-----------------+\n",
            "only showing top 20 rows\n",
            "\n"
          ]
        }
      ]
    },
    {
      "cell_type": "code",
      "source": [
        "path_to_save = '/content/'\n",
        "\n",
        "wdi_csdf.write.csv(path_to_save + 'Wdi_csdf.csv', header=True, mode='ignore')\n",
        "country_ind.write.csv(path_to_save + 'Country_ind.csv', header=True, mode='ignore')\n",
        "year_ind.write.csv(path_to_save + 'Year_ind.csv', header=True, mode='ignore')\n",
        "\n",
        "# Save to JSON, because CSV does not support the array data type\n",
        "year_country_ind.write.json(path_to_save + 'year_country_ind.json', mode='ignore')\n",
        "wdi_csdf_years.write.json(path_to_save + 'wdi_csdf_years.json', mode='ignore')"
      ],
      "metadata": {
        "id": "VKaU38nwV93U"
      },
      "execution_count": 84,
      "outputs": []
    },
    {
      "cell_type": "code",
      "source": [],
      "metadata": {
        "id": "dTJFOM8UWBuF"
      },
      "execution_count": null,
      "outputs": []
    }
  ]
}